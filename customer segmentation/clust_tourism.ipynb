{
 "cells": [
  {
   "cell_type": "code",
   "execution_count": 510,
   "id": "c80e3caf-0750-4454-a5b3-e18f945e767d",
   "metadata": {
    "tags": []
   },
   "outputs": [],
   "source": [
    "import numpy as np\n",
    "import pandas as pd\n",
    "import matplotlib.pyplot as plt\n",
    "import seaborn as sns\n",
    "import math\n",
    "from sklearn.cluster import KMeans\n",
    "from yellowbrick.cluster import SilhouetteVisualizer\n",
    "from sklearn.metrics import silhouette_score"
   ]
  },
  {
   "cell_type": "code",
   "execution_count": 511,
   "id": "03828466-09d2-4e80-a2a3-b774a500dc87",
   "metadata": {},
   "outputs": [],
   "source": [
    "url1 = 'tourism/package_tourism.csv'\n",
    "package = pd.read_csv(url1)\n",
    "url2 = 'tourism/tourism_rating.csv'\n",
    "rating = pd.read_csv(url2)\n",
    "url3 = 'tourism/tourism_with_id.csv'\n",
    "tourism= pd.read_csv(url3)\n",
    "url4 = 'tourism/user.csv'\n",
    "user = pd.read_csv(url4)"
   ]
  },
  {
   "cell_type": "markdown",
   "id": "4d8af16e-530e-487b-99c1-c90a5cc74fbb",
   "metadata": {},
   "source": [
    "## Package DataFrame"
   ]
  },
  {
   "cell_type": "code",
   "execution_count": 512,
   "id": "bc0b6ef9-0136-4478-a5d3-568a25550d2f",
   "metadata": {},
   "outputs": [
    {
     "data": {
      "text/html": [
       "<div>\n",
       "<style scoped>\n",
       "    .dataframe tbody tr th:only-of-type {\n",
       "        vertical-align: middle;\n",
       "    }\n",
       "\n",
       "    .dataframe tbody tr th {\n",
       "        vertical-align: top;\n",
       "    }\n",
       "\n",
       "    .dataframe thead th {\n",
       "        text-align: right;\n",
       "    }\n",
       "</style>\n",
       "<table border=\"1\" class=\"dataframe\">\n",
       "  <thead>\n",
       "    <tr style=\"text-align: right;\">\n",
       "      <th></th>\n",
       "      <th>Package</th>\n",
       "      <th>City</th>\n",
       "      <th>Place_Tourism1</th>\n",
       "      <th>Place_Tourism2</th>\n",
       "      <th>Place_Tourism3</th>\n",
       "      <th>Place_Tourism4</th>\n",
       "      <th>Place_Tourism5</th>\n",
       "    </tr>\n",
       "  </thead>\n",
       "  <tbody>\n",
       "    <tr>\n",
       "      <th>0</th>\n",
       "      <td>1</td>\n",
       "      <td>Jakarta</td>\n",
       "      <td>Pasar Tanah Abang</td>\n",
       "      <td>Taman Ayodya</td>\n",
       "      <td>Museum Tekstil</td>\n",
       "      <td>NaN</td>\n",
       "      <td>NaN</td>\n",
       "    </tr>\n",
       "    <tr>\n",
       "      <th>1</th>\n",
       "      <td>2</td>\n",
       "      <td>Jakarta</td>\n",
       "      <td>Pasar Tanah Abang</td>\n",
       "      <td>Pasar Taman Puring</td>\n",
       "      <td>Pasar Petak Sembilan</td>\n",
       "      <td>NaN</td>\n",
       "      <td>NaN</td>\n",
       "    </tr>\n",
       "    <tr>\n",
       "      <th>2</th>\n",
       "      <td>3</td>\n",
       "      <td>Jakarta</td>\n",
       "      <td>Perpustakaan Nasional</td>\n",
       "      <td>Monas</td>\n",
       "      <td>Masjid Istiqlal</td>\n",
       "      <td>NaN</td>\n",
       "      <td>NaN</td>\n",
       "    </tr>\n",
       "    <tr>\n",
       "      <th>3</th>\n",
       "      <td>4</td>\n",
       "      <td>Jakarta</td>\n",
       "      <td>Pulau Tidung</td>\n",
       "      <td>Pulau Bidadari</td>\n",
       "      <td>Pulau Pari</td>\n",
       "      <td>Pulau Pramuka</td>\n",
       "      <td>Pulau Pelangi</td>\n",
       "    </tr>\n",
       "    <tr>\n",
       "      <th>4</th>\n",
       "      <td>5</td>\n",
       "      <td>Jakarta</td>\n",
       "      <td>Museum Satria Mandala</td>\n",
       "      <td>Museum Wayang</td>\n",
       "      <td>Museum Bahari Jakarta</td>\n",
       "      <td>Museum Macan (Modern and Contemporary Art in N...</td>\n",
       "      <td>NaN</td>\n",
       "    </tr>\n",
       "  </tbody>\n",
       "</table>\n",
       "</div>"
      ],
      "text/plain": [
       "   Package     City         Place_Tourism1      Place_Tourism2  \\\n",
       "0        1  Jakarta      Pasar Tanah Abang        Taman Ayodya   \n",
       "1        2  Jakarta      Pasar Tanah Abang  Pasar Taman Puring   \n",
       "2        3  Jakarta  Perpustakaan Nasional               Monas   \n",
       "3        4  Jakarta           Pulau Tidung      Pulau Bidadari   \n",
       "4        5  Jakarta  Museum Satria Mandala       Museum Wayang   \n",
       "\n",
       "          Place_Tourism3                                     Place_Tourism4  \\\n",
       "0         Museum Tekstil                                                NaN   \n",
       "1   Pasar Petak Sembilan                                                NaN   \n",
       "2        Masjid Istiqlal                                                NaN   \n",
       "3             Pulau Pari                                      Pulau Pramuka   \n",
       "4  Museum Bahari Jakarta  Museum Macan (Modern and Contemporary Art in N...   \n",
       "\n",
       "  Place_Tourism5  \n",
       "0            NaN  \n",
       "1            NaN  \n",
       "2            NaN  \n",
       "3  Pulau Pelangi  \n",
       "4            NaN  "
      ]
     },
     "execution_count": 512,
     "metadata": {},
     "output_type": "execute_result"
    }
   ],
   "source": [
    "package.head()"
   ]
  },
  {
   "cell_type": "code",
   "execution_count": 513,
   "id": "f1fcf25f-5b75-4db4-989f-8e1fb919f8fb",
   "metadata": {},
   "outputs": [
    {
     "data": {
      "text/plain": [
       "(100, 7)"
      ]
     },
     "execution_count": 513,
     "metadata": {},
     "output_type": "execute_result"
    }
   ],
   "source": [
    "package.shape"
   ]
  },
  {
   "cell_type": "markdown",
   "id": "e8560a15-a698-41a0-a925-0bdd6dd4a2ea",
   "metadata": {},
   "source": [
    "## Rating DataFrame"
   ]
  },
  {
   "cell_type": "code",
   "execution_count": 514,
   "id": "3e56a7db-ba79-4778-8fb4-b4c1147f8ab5",
   "metadata": {},
   "outputs": [
    {
     "data": {
      "text/html": [
       "<div>\n",
       "<style scoped>\n",
       "    .dataframe tbody tr th:only-of-type {\n",
       "        vertical-align: middle;\n",
       "    }\n",
       "\n",
       "    .dataframe tbody tr th {\n",
       "        vertical-align: top;\n",
       "    }\n",
       "\n",
       "    .dataframe thead th {\n",
       "        text-align: right;\n",
       "    }\n",
       "</style>\n",
       "<table border=\"1\" class=\"dataframe\">\n",
       "  <thead>\n",
       "    <tr style=\"text-align: right;\">\n",
       "      <th></th>\n",
       "      <th>User_Id</th>\n",
       "      <th>Place_Id</th>\n",
       "      <th>Place_Ratings</th>\n",
       "    </tr>\n",
       "  </thead>\n",
       "  <tbody>\n",
       "    <tr>\n",
       "      <th>0</th>\n",
       "      <td>1</td>\n",
       "      <td>179</td>\n",
       "      <td>3</td>\n",
       "    </tr>\n",
       "    <tr>\n",
       "      <th>1</th>\n",
       "      <td>1</td>\n",
       "      <td>344</td>\n",
       "      <td>2</td>\n",
       "    </tr>\n",
       "    <tr>\n",
       "      <th>2</th>\n",
       "      <td>1</td>\n",
       "      <td>5</td>\n",
       "      <td>5</td>\n",
       "    </tr>\n",
       "    <tr>\n",
       "      <th>3</th>\n",
       "      <td>1</td>\n",
       "      <td>373</td>\n",
       "      <td>3</td>\n",
       "    </tr>\n",
       "    <tr>\n",
       "      <th>4</th>\n",
       "      <td>1</td>\n",
       "      <td>101</td>\n",
       "      <td>4</td>\n",
       "    </tr>\n",
       "  </tbody>\n",
       "</table>\n",
       "</div>"
      ],
      "text/plain": [
       "   User_Id  Place_Id  Place_Ratings\n",
       "0        1       179              3\n",
       "1        1       344              2\n",
       "2        1         5              5\n",
       "3        1       373              3\n",
       "4        1       101              4"
      ]
     },
     "execution_count": 514,
     "metadata": {},
     "output_type": "execute_result"
    }
   ],
   "source": [
    "rating.head()"
   ]
  },
  {
   "cell_type": "code",
   "execution_count": 515,
   "id": "6d28fdfe-f277-4020-83bd-01d00031bfec",
   "metadata": {},
   "outputs": [
    {
     "data": {
      "text/html": [
       "<div>\n",
       "<style scoped>\n",
       "    .dataframe tbody tr th:only-of-type {\n",
       "        vertical-align: middle;\n",
       "    }\n",
       "\n",
       "    .dataframe tbody tr th {\n",
       "        vertical-align: top;\n",
       "    }\n",
       "\n",
       "    .dataframe thead th {\n",
       "        text-align: right;\n",
       "    }\n",
       "</style>\n",
       "<table border=\"1\" class=\"dataframe\">\n",
       "  <thead>\n",
       "    <tr style=\"text-align: right;\">\n",
       "      <th></th>\n",
       "      <th>User_Id</th>\n",
       "      <th>Location</th>\n",
       "      <th>Age</th>\n",
       "    </tr>\n",
       "  </thead>\n",
       "  <tbody>\n",
       "    <tr>\n",
       "      <th>0</th>\n",
       "      <td>1</td>\n",
       "      <td>Semarang, Jawa Tengah</td>\n",
       "      <td>20</td>\n",
       "    </tr>\n",
       "    <tr>\n",
       "      <th>1</th>\n",
       "      <td>2</td>\n",
       "      <td>Bekasi, Jawa Barat</td>\n",
       "      <td>21</td>\n",
       "    </tr>\n",
       "    <tr>\n",
       "      <th>2</th>\n",
       "      <td>3</td>\n",
       "      <td>Cirebon, Jawa Barat</td>\n",
       "      <td>23</td>\n",
       "    </tr>\n",
       "    <tr>\n",
       "      <th>3</th>\n",
       "      <td>4</td>\n",
       "      <td>Bekasi, Jawa Barat</td>\n",
       "      <td>21</td>\n",
       "    </tr>\n",
       "    <tr>\n",
       "      <th>4</th>\n",
       "      <td>5</td>\n",
       "      <td>Lampung, Sumatera Selatan</td>\n",
       "      <td>20</td>\n",
       "    </tr>\n",
       "  </tbody>\n",
       "</table>\n",
       "</div>"
      ],
      "text/plain": [
       "   User_Id                   Location  Age\n",
       "0        1      Semarang, Jawa Tengah   20\n",
       "1        2         Bekasi, Jawa Barat   21\n",
       "2        3        Cirebon, Jawa Barat   23\n",
       "3        4         Bekasi, Jawa Barat   21\n",
       "4        5  Lampung, Sumatera Selatan   20"
      ]
     },
     "execution_count": 515,
     "metadata": {},
     "output_type": "execute_result"
    }
   ],
   "source": [
    "user.head()"
   ]
  },
  {
   "cell_type": "code",
   "execution_count": 516,
   "id": "ae598e5a-adb3-480a-9dc4-9958f924bd90",
   "metadata": {},
   "outputs": [
    {
     "data": {
      "text/html": [
       "<div>\n",
       "<style scoped>\n",
       "    .dataframe tbody tr th:only-of-type {\n",
       "        vertical-align: middle;\n",
       "    }\n",
       "\n",
       "    .dataframe tbody tr th {\n",
       "        vertical-align: top;\n",
       "    }\n",
       "\n",
       "    .dataframe thead th {\n",
       "        text-align: right;\n",
       "    }\n",
       "</style>\n",
       "<table border=\"1\" class=\"dataframe\">\n",
       "  <thead>\n",
       "    <tr style=\"text-align: right;\">\n",
       "      <th></th>\n",
       "      <th>User_Id</th>\n",
       "      <th>Place_Id</th>\n",
       "      <th>Place_Ratings</th>\n",
       "      <th>Age</th>\n",
       "    </tr>\n",
       "  </thead>\n",
       "  <tbody>\n",
       "    <tr>\n",
       "      <th>0</th>\n",
       "      <td>1</td>\n",
       "      <td>179</td>\n",
       "      <td>3</td>\n",
       "      <td>20</td>\n",
       "    </tr>\n",
       "    <tr>\n",
       "      <th>1</th>\n",
       "      <td>1</td>\n",
       "      <td>344</td>\n",
       "      <td>2</td>\n",
       "      <td>20</td>\n",
       "    </tr>\n",
       "    <tr>\n",
       "      <th>2</th>\n",
       "      <td>1</td>\n",
       "      <td>5</td>\n",
       "      <td>5</td>\n",
       "      <td>20</td>\n",
       "    </tr>\n",
       "    <tr>\n",
       "      <th>3</th>\n",
       "      <td>1</td>\n",
       "      <td>373</td>\n",
       "      <td>3</td>\n",
       "      <td>20</td>\n",
       "    </tr>\n",
       "    <tr>\n",
       "      <th>4</th>\n",
       "      <td>1</td>\n",
       "      <td>101</td>\n",
       "      <td>4</td>\n",
       "      <td>20</td>\n",
       "    </tr>\n",
       "  </tbody>\n",
       "</table>\n",
       "</div>"
      ],
      "text/plain": [
       "   User_Id  Place_Id  Place_Ratings  Age\n",
       "0        1       179              3   20\n",
       "1        1       344              2   20\n",
       "2        1         5              5   20\n",
       "3        1       373              3   20\n",
       "4        1       101              4   20"
      ]
     },
     "execution_count": 516,
     "metadata": {},
     "output_type": "execute_result"
    }
   ],
   "source": [
    "user_age = user[['User_Id','Age']]\n",
    "a = rating.merge(user_age, on='User_Id')\n",
    "a.head()"
   ]
  },
  {
   "cell_type": "code",
   "execution_count": 517,
   "id": "76199bd9-c80c-4965-ba1e-1b0a00ec6ad0",
   "metadata": {},
   "outputs": [
    {
     "data": {
      "text/plain": [
       "Place_Id\n",
       "1      27.0\n",
       "2      29.0\n",
       "3      28.0\n",
       "4      30.0\n",
       "5      29.0\n",
       "       ... \n",
       "433    28.0\n",
       "434    30.0\n",
       "435    27.0\n",
       "436    28.0\n",
       "437    28.0\n",
       "Name: Age, Length: 437, dtype: float64"
      ]
     },
     "execution_count": 517,
     "metadata": {},
     "output_type": "execute_result"
    }
   ],
   "source": [
    "#menghitung jumlah rating per user_id\n",
    "age_mean = a['Age'].groupby([a['Place_Id']]).mean()\n",
    "age_mean = round(age_mean)\n",
    "age_mean"
   ]
  },
  {
   "cell_type": "code",
   "execution_count": 518,
   "id": "124e8aaf-2a5f-45d5-a70b-52170f64fdcc",
   "metadata": {},
   "outputs": [
    {
     "data": {
      "text/plain": [
       "Place_Id\n",
       "1      18\n",
       "2      25\n",
       "3      19\n",
       "4      21\n",
       "5      25\n",
       "       ..\n",
       "433    23\n",
       "434    25\n",
       "435    17\n",
       "436    22\n",
       "437    38\n",
       "Name: Place_Id, Length: 437, dtype: int64"
      ]
     },
     "execution_count": 518,
     "metadata": {},
     "output_type": "execute_result"
    }
   ],
   "source": [
    "#menghitung jumlah lokasi yang dikunjungi per User_Id\n",
    "count_place = rating['Place_Id'].groupby(rating['Place_Id']).count()\n",
    "count_place"
   ]
  },
  {
   "cell_type": "code",
   "execution_count": 519,
   "id": "46c903d7-bcb9-47b6-b92f-494ba4532dd4",
   "metadata": {},
   "outputs": [
    {
     "data": {
      "text/plain": [
       "(10000, 3)"
      ]
     },
     "execution_count": 519,
     "metadata": {},
     "output_type": "execute_result"
    }
   ],
   "source": [
    "rating.shape"
   ]
  },
  {
   "cell_type": "markdown",
   "id": "fca525e4-6f54-412b-84ff-95823b0f865c",
   "metadata": {},
   "source": [
    "## User DataFrame"
   ]
  },
  {
   "cell_type": "code",
   "execution_count": 520,
   "id": "f14d9780-df1f-4309-aab0-69ebc3ddcac3",
   "metadata": {},
   "outputs": [
    {
     "data": {
      "text/html": [
       "<div>\n",
       "<style scoped>\n",
       "    .dataframe tbody tr th:only-of-type {\n",
       "        vertical-align: middle;\n",
       "    }\n",
       "\n",
       "    .dataframe tbody tr th {\n",
       "        vertical-align: top;\n",
       "    }\n",
       "\n",
       "    .dataframe thead th {\n",
       "        text-align: right;\n",
       "    }\n",
       "</style>\n",
       "<table border=\"1\" class=\"dataframe\">\n",
       "  <thead>\n",
       "    <tr style=\"text-align: right;\">\n",
       "      <th></th>\n",
       "      <th>User_Id</th>\n",
       "      <th>Location</th>\n",
       "      <th>Age</th>\n",
       "    </tr>\n",
       "  </thead>\n",
       "  <tbody>\n",
       "    <tr>\n",
       "      <th>0</th>\n",
       "      <td>1</td>\n",
       "      <td>Semarang, Jawa Tengah</td>\n",
       "      <td>20</td>\n",
       "    </tr>\n",
       "    <tr>\n",
       "      <th>1</th>\n",
       "      <td>2</td>\n",
       "      <td>Bekasi, Jawa Barat</td>\n",
       "      <td>21</td>\n",
       "    </tr>\n",
       "    <tr>\n",
       "      <th>2</th>\n",
       "      <td>3</td>\n",
       "      <td>Cirebon, Jawa Barat</td>\n",
       "      <td>23</td>\n",
       "    </tr>\n",
       "    <tr>\n",
       "      <th>3</th>\n",
       "      <td>4</td>\n",
       "      <td>Bekasi, Jawa Barat</td>\n",
       "      <td>21</td>\n",
       "    </tr>\n",
       "    <tr>\n",
       "      <th>4</th>\n",
       "      <td>5</td>\n",
       "      <td>Lampung, Sumatera Selatan</td>\n",
       "      <td>20</td>\n",
       "    </tr>\n",
       "  </tbody>\n",
       "</table>\n",
       "</div>"
      ],
      "text/plain": [
       "   User_Id                   Location  Age\n",
       "0        1      Semarang, Jawa Tengah   20\n",
       "1        2         Bekasi, Jawa Barat   21\n",
       "2        3        Cirebon, Jawa Barat   23\n",
       "3        4         Bekasi, Jawa Barat   21\n",
       "4        5  Lampung, Sumatera Selatan   20"
      ]
     },
     "execution_count": 520,
     "metadata": {},
     "output_type": "execute_result"
    }
   ],
   "source": [
    "user.head()"
   ]
  },
  {
   "cell_type": "code",
   "execution_count": 521,
   "id": "4d77d846-f33d-4b77-b589-c1cd13cf1958",
   "metadata": {},
   "outputs": [
    {
     "data": {
      "text/plain": [
       "(300, 3)"
      ]
     },
     "execution_count": 521,
     "metadata": {},
     "output_type": "execute_result"
    }
   ],
   "source": [
    "user.shape"
   ]
  },
  {
   "cell_type": "code",
   "execution_count": 522,
   "id": "2fffd691-c09f-4ed1-83c4-c5e45fd2bc24",
   "metadata": {},
   "outputs": [
    {
     "data": {
      "text/plain": [
       "User_Id     0\n",
       "Location    0\n",
       "Age         0\n",
       "dtype: int64"
      ]
     },
     "execution_count": 522,
     "metadata": {},
     "output_type": "execute_result"
    }
   ],
   "source": [
    "user.isna().sum()"
   ]
  },
  {
   "cell_type": "code",
   "execution_count": 523,
   "id": "8ffd6ca1-7337-4b0a-b86a-e74119ec7114",
   "metadata": {},
   "outputs": [
    {
     "data": {
      "text/html": [
       "<div>\n",
       "<style scoped>\n",
       "    .dataframe tbody tr th:only-of-type {\n",
       "        vertical-align: middle;\n",
       "    }\n",
       "\n",
       "    .dataframe tbody tr th {\n",
       "        vertical-align: top;\n",
       "    }\n",
       "\n",
       "    .dataframe thead th {\n",
       "        text-align: right;\n",
       "    }\n",
       "</style>\n",
       "<table border=\"1\" class=\"dataframe\">\n",
       "  <thead>\n",
       "    <tr style=\"text-align: right;\">\n",
       "      <th></th>\n",
       "      <th>User_Id</th>\n",
       "      <th>Age</th>\n",
       "    </tr>\n",
       "  </thead>\n",
       "  <tbody>\n",
       "    <tr>\n",
       "      <th>count</th>\n",
       "      <td>300.000000</td>\n",
       "      <td>300.000000</td>\n",
       "    </tr>\n",
       "    <tr>\n",
       "      <th>mean</th>\n",
       "      <td>150.500000</td>\n",
       "      <td>28.700000</td>\n",
       "    </tr>\n",
       "    <tr>\n",
       "      <th>std</th>\n",
       "      <td>86.746758</td>\n",
       "      <td>6.393716</td>\n",
       "    </tr>\n",
       "    <tr>\n",
       "      <th>min</th>\n",
       "      <td>1.000000</td>\n",
       "      <td>18.000000</td>\n",
       "    </tr>\n",
       "    <tr>\n",
       "      <th>25%</th>\n",
       "      <td>75.750000</td>\n",
       "      <td>24.000000</td>\n",
       "    </tr>\n",
       "    <tr>\n",
       "      <th>50%</th>\n",
       "      <td>150.500000</td>\n",
       "      <td>29.000000</td>\n",
       "    </tr>\n",
       "    <tr>\n",
       "      <th>75%</th>\n",
       "      <td>225.250000</td>\n",
       "      <td>34.000000</td>\n",
       "    </tr>\n",
       "    <tr>\n",
       "      <th>max</th>\n",
       "      <td>300.000000</td>\n",
       "      <td>40.000000</td>\n",
       "    </tr>\n",
       "  </tbody>\n",
       "</table>\n",
       "</div>"
      ],
      "text/plain": [
       "          User_Id         Age\n",
       "count  300.000000  300.000000\n",
       "mean   150.500000   28.700000\n",
       "std     86.746758    6.393716\n",
       "min      1.000000   18.000000\n",
       "25%     75.750000   24.000000\n",
       "50%    150.500000   29.000000\n",
       "75%    225.250000   34.000000\n",
       "max    300.000000   40.000000"
      ]
     },
     "execution_count": 523,
     "metadata": {},
     "output_type": "execute_result"
    }
   ],
   "source": [
    "user.describe()"
   ]
  },
  {
   "cell_type": "markdown",
   "id": "f070421a-b397-4346-81e8-136ad10bcee7",
   "metadata": {},
   "source": [
    "## Tourism DataFrame"
   ]
  },
  {
   "cell_type": "code",
   "execution_count": 524,
   "id": "169c6124-5fce-499d-9186-a7d7eac66a81",
   "metadata": {},
   "outputs": [
    {
     "data": {
      "text/html": [
       "<div>\n",
       "<style scoped>\n",
       "    .dataframe tbody tr th:only-of-type {\n",
       "        vertical-align: middle;\n",
       "    }\n",
       "\n",
       "    .dataframe tbody tr th {\n",
       "        vertical-align: top;\n",
       "    }\n",
       "\n",
       "    .dataframe thead th {\n",
       "        text-align: right;\n",
       "    }\n",
       "</style>\n",
       "<table border=\"1\" class=\"dataframe\">\n",
       "  <thead>\n",
       "    <tr style=\"text-align: right;\">\n",
       "      <th></th>\n",
       "      <th>Place_Id</th>\n",
       "      <th>Place_Name</th>\n",
       "      <th>Description</th>\n",
       "      <th>Category</th>\n",
       "      <th>City</th>\n",
       "      <th>Price</th>\n",
       "      <th>Rating</th>\n",
       "      <th>Time_Minutes</th>\n",
       "      <th>Coordinate</th>\n",
       "      <th>Lat</th>\n",
       "      <th>Long</th>\n",
       "      <th>Unnamed: 11</th>\n",
       "      <th>Unnamed: 12</th>\n",
       "    </tr>\n",
       "  </thead>\n",
       "  <tbody>\n",
       "    <tr>\n",
       "      <th>0</th>\n",
       "      <td>1</td>\n",
       "      <td>Monumen Nasional</td>\n",
       "      <td>Monumen Nasional atau yang populer disingkat d...</td>\n",
       "      <td>Budaya</td>\n",
       "      <td>Jakarta</td>\n",
       "      <td>20000</td>\n",
       "      <td>4.6</td>\n",
       "      <td>15.0</td>\n",
       "      <td>{'lat': -6.1753924, 'lng': 106.8271528}</td>\n",
       "      <td>-6.175392</td>\n",
       "      <td>106.827153</td>\n",
       "      <td>NaN</td>\n",
       "      <td>1</td>\n",
       "    </tr>\n",
       "    <tr>\n",
       "      <th>1</th>\n",
       "      <td>2</td>\n",
       "      <td>Kota Tua</td>\n",
       "      <td>Kota tua di Jakarta, yang juga bernama Kota Tu...</td>\n",
       "      <td>Budaya</td>\n",
       "      <td>Jakarta</td>\n",
       "      <td>0</td>\n",
       "      <td>4.6</td>\n",
       "      <td>90.0</td>\n",
       "      <td>{'lat': -6.137644799999999, 'lng': 106.8171245}</td>\n",
       "      <td>-6.137645</td>\n",
       "      <td>106.817125</td>\n",
       "      <td>NaN</td>\n",
       "      <td>2</td>\n",
       "    </tr>\n",
       "    <tr>\n",
       "      <th>2</th>\n",
       "      <td>3</td>\n",
       "      <td>Dunia Fantasi</td>\n",
       "      <td>Dunia Fantasi atau disebut juga Dufan adalah t...</td>\n",
       "      <td>Taman Hiburan</td>\n",
       "      <td>Jakarta</td>\n",
       "      <td>270000</td>\n",
       "      <td>4.6</td>\n",
       "      <td>360.0</td>\n",
       "      <td>{'lat': -6.125312399999999, 'lng': 106.8335377}</td>\n",
       "      <td>-6.125312</td>\n",
       "      <td>106.833538</td>\n",
       "      <td>NaN</td>\n",
       "      <td>3</td>\n",
       "    </tr>\n",
       "    <tr>\n",
       "      <th>3</th>\n",
       "      <td>4</td>\n",
       "      <td>Taman Mini Indonesia Indah (TMII)</td>\n",
       "      <td>Taman Mini Indonesia Indah merupakan suatu kaw...</td>\n",
       "      <td>Taman Hiburan</td>\n",
       "      <td>Jakarta</td>\n",
       "      <td>10000</td>\n",
       "      <td>4.5</td>\n",
       "      <td>NaN</td>\n",
       "      <td>{'lat': -6.302445899999999, 'lng': 106.8951559}</td>\n",
       "      <td>-6.302446</td>\n",
       "      <td>106.895156</td>\n",
       "      <td>NaN</td>\n",
       "      <td>4</td>\n",
       "    </tr>\n",
       "    <tr>\n",
       "      <th>4</th>\n",
       "      <td>5</td>\n",
       "      <td>Atlantis Water Adventure</td>\n",
       "      <td>Atlantis Water Adventure atau dikenal dengan A...</td>\n",
       "      <td>Taman Hiburan</td>\n",
       "      <td>Jakarta</td>\n",
       "      <td>94000</td>\n",
       "      <td>4.5</td>\n",
       "      <td>60.0</td>\n",
       "      <td>{'lat': -6.12419, 'lng': 106.839134}</td>\n",
       "      <td>-6.124190</td>\n",
       "      <td>106.839134</td>\n",
       "      <td>NaN</td>\n",
       "      <td>5</td>\n",
       "    </tr>\n",
       "  </tbody>\n",
       "</table>\n",
       "</div>"
      ],
      "text/plain": [
       "   Place_Id                         Place_Name  \\\n",
       "0         1                   Monumen Nasional   \n",
       "1         2                           Kota Tua   \n",
       "2         3                      Dunia Fantasi   \n",
       "3         4  Taman Mini Indonesia Indah (TMII)   \n",
       "4         5           Atlantis Water Adventure   \n",
       "\n",
       "                                         Description       Category     City  \\\n",
       "0  Monumen Nasional atau yang populer disingkat d...         Budaya  Jakarta   \n",
       "1  Kota tua di Jakarta, yang juga bernama Kota Tu...         Budaya  Jakarta   \n",
       "2  Dunia Fantasi atau disebut juga Dufan adalah t...  Taman Hiburan  Jakarta   \n",
       "3  Taman Mini Indonesia Indah merupakan suatu kaw...  Taman Hiburan  Jakarta   \n",
       "4  Atlantis Water Adventure atau dikenal dengan A...  Taman Hiburan  Jakarta   \n",
       "\n",
       "    Price  Rating  Time_Minutes  \\\n",
       "0   20000     4.6          15.0   \n",
       "1       0     4.6          90.0   \n",
       "2  270000     4.6         360.0   \n",
       "3   10000     4.5           NaN   \n",
       "4   94000     4.5          60.0   \n",
       "\n",
       "                                        Coordinate       Lat        Long  \\\n",
       "0          {'lat': -6.1753924, 'lng': 106.8271528} -6.175392  106.827153   \n",
       "1  {'lat': -6.137644799999999, 'lng': 106.8171245} -6.137645  106.817125   \n",
       "2  {'lat': -6.125312399999999, 'lng': 106.8335377} -6.125312  106.833538   \n",
       "3  {'lat': -6.302445899999999, 'lng': 106.8951559} -6.302446  106.895156   \n",
       "4             {'lat': -6.12419, 'lng': 106.839134} -6.124190  106.839134   \n",
       "\n",
       "   Unnamed: 11  Unnamed: 12  \n",
       "0          NaN            1  \n",
       "1          NaN            2  \n",
       "2          NaN            3  \n",
       "3          NaN            4  \n",
       "4          NaN            5  "
      ]
     },
     "execution_count": 524,
     "metadata": {},
     "output_type": "execute_result"
    }
   ],
   "source": [
    "tourism.head()"
   ]
  },
  {
   "cell_type": "code",
   "execution_count": 525,
   "id": "5a5f8cf2-beaa-4017-ab04-445725bb6a52",
   "metadata": {},
   "outputs": [],
   "source": [
    "#menmfilter dua kolom kosong dan kolom koordinat\n",
    "tourism_id = tourism.iloc[:,:-5]"
   ]
  },
  {
   "cell_type": "code",
   "execution_count": 526,
   "id": "82124ecf-406c-4390-ba7e-a54d5e87dbcd",
   "metadata": {},
   "outputs": [
    {
     "data": {
      "text/html": [
       "<div>\n",
       "<style scoped>\n",
       "    .dataframe tbody tr th:only-of-type {\n",
       "        vertical-align: middle;\n",
       "    }\n",
       "\n",
       "    .dataframe tbody tr th {\n",
       "        vertical-align: top;\n",
       "    }\n",
       "\n",
       "    .dataframe thead th {\n",
       "        text-align: right;\n",
       "    }\n",
       "</style>\n",
       "<table border=\"1\" class=\"dataframe\">\n",
       "  <thead>\n",
       "    <tr style=\"text-align: right;\">\n",
       "      <th></th>\n",
       "      <th>Place_Id</th>\n",
       "      <th>Place_Name</th>\n",
       "      <th>Description</th>\n",
       "      <th>Category</th>\n",
       "      <th>City</th>\n",
       "      <th>Price</th>\n",
       "      <th>Rating</th>\n",
       "      <th>Time_Minutes</th>\n",
       "    </tr>\n",
       "  </thead>\n",
       "  <tbody>\n",
       "    <tr>\n",
       "      <th>0</th>\n",
       "      <td>1</td>\n",
       "      <td>Monumen Nasional</td>\n",
       "      <td>Monumen Nasional atau yang populer disingkat d...</td>\n",
       "      <td>Budaya</td>\n",
       "      <td>Jakarta</td>\n",
       "      <td>20000</td>\n",
       "      <td>4.6</td>\n",
       "      <td>15.0</td>\n",
       "    </tr>\n",
       "    <tr>\n",
       "      <th>1</th>\n",
       "      <td>2</td>\n",
       "      <td>Kota Tua</td>\n",
       "      <td>Kota tua di Jakarta, yang juga bernama Kota Tu...</td>\n",
       "      <td>Budaya</td>\n",
       "      <td>Jakarta</td>\n",
       "      <td>0</td>\n",
       "      <td>4.6</td>\n",
       "      <td>90.0</td>\n",
       "    </tr>\n",
       "    <tr>\n",
       "      <th>2</th>\n",
       "      <td>3</td>\n",
       "      <td>Dunia Fantasi</td>\n",
       "      <td>Dunia Fantasi atau disebut juga Dufan adalah t...</td>\n",
       "      <td>Taman Hiburan</td>\n",
       "      <td>Jakarta</td>\n",
       "      <td>270000</td>\n",
       "      <td>4.6</td>\n",
       "      <td>360.0</td>\n",
       "    </tr>\n",
       "    <tr>\n",
       "      <th>3</th>\n",
       "      <td>4</td>\n",
       "      <td>Taman Mini Indonesia Indah (TMII)</td>\n",
       "      <td>Taman Mini Indonesia Indah merupakan suatu kaw...</td>\n",
       "      <td>Taman Hiburan</td>\n",
       "      <td>Jakarta</td>\n",
       "      <td>10000</td>\n",
       "      <td>4.5</td>\n",
       "      <td>NaN</td>\n",
       "    </tr>\n",
       "    <tr>\n",
       "      <th>4</th>\n",
       "      <td>5</td>\n",
       "      <td>Atlantis Water Adventure</td>\n",
       "      <td>Atlantis Water Adventure atau dikenal dengan A...</td>\n",
       "      <td>Taman Hiburan</td>\n",
       "      <td>Jakarta</td>\n",
       "      <td>94000</td>\n",
       "      <td>4.5</td>\n",
       "      <td>60.0</td>\n",
       "    </tr>\n",
       "  </tbody>\n",
       "</table>\n",
       "</div>"
      ],
      "text/plain": [
       "   Place_Id                         Place_Name  \\\n",
       "0         1                   Monumen Nasional   \n",
       "1         2                           Kota Tua   \n",
       "2         3                      Dunia Fantasi   \n",
       "3         4  Taman Mini Indonesia Indah (TMII)   \n",
       "4         5           Atlantis Water Adventure   \n",
       "\n",
       "                                         Description       Category     City  \\\n",
       "0  Monumen Nasional atau yang populer disingkat d...         Budaya  Jakarta   \n",
       "1  Kota tua di Jakarta, yang juga bernama Kota Tu...         Budaya  Jakarta   \n",
       "2  Dunia Fantasi atau disebut juga Dufan adalah t...  Taman Hiburan  Jakarta   \n",
       "3  Taman Mini Indonesia Indah merupakan suatu kaw...  Taman Hiburan  Jakarta   \n",
       "4  Atlantis Water Adventure atau dikenal dengan A...  Taman Hiburan  Jakarta   \n",
       "\n",
       "    Price  Rating  Time_Minutes  \n",
       "0   20000     4.6          15.0  \n",
       "1       0     4.6          90.0  \n",
       "2  270000     4.6         360.0  \n",
       "3   10000     4.5           NaN  \n",
       "4   94000     4.5          60.0  "
      ]
     },
     "execution_count": 526,
     "metadata": {},
     "output_type": "execute_result"
    }
   ],
   "source": [
    "tourism_id.head()"
   ]
  },
  {
   "cell_type": "code",
   "execution_count": 527,
   "id": "b1d91ff9-9f96-4509-a11b-b91c08a3c7ad",
   "metadata": {},
   "outputs": [
    {
     "data": {
      "text/html": [
       "<div>\n",
       "<style scoped>\n",
       "    .dataframe tbody tr th:only-of-type {\n",
       "        vertical-align: middle;\n",
       "    }\n",
       "\n",
       "    .dataframe tbody tr th {\n",
       "        vertical-align: top;\n",
       "    }\n",
       "\n",
       "    .dataframe thead th {\n",
       "        text-align: right;\n",
       "    }\n",
       "</style>\n",
       "<table border=\"1\" class=\"dataframe\">\n",
       "  <thead>\n",
       "    <tr style=\"text-align: right;\">\n",
       "      <th></th>\n",
       "      <th>Place_Id</th>\n",
       "      <th>Place_Name</th>\n",
       "      <th>Description</th>\n",
       "      <th>Category</th>\n",
       "      <th>City</th>\n",
       "      <th>Price</th>\n",
       "      <th>Rating</th>\n",
       "      <th>Time_Minutes</th>\n",
       "      <th>age_mean</th>\n",
       "      <th>visitor_count</th>\n",
       "      <th>pendapatan</th>\n",
       "    </tr>\n",
       "  </thead>\n",
       "  <tbody>\n",
       "    <tr>\n",
       "      <th>0</th>\n",
       "      <td>1</td>\n",
       "      <td>Monumen Nasional</td>\n",
       "      <td>Monumen Nasional atau yang populer disingkat d...</td>\n",
       "      <td>Budaya</td>\n",
       "      <td>Jakarta</td>\n",
       "      <td>20000</td>\n",
       "      <td>4.6</td>\n",
       "      <td>15.0</td>\n",
       "      <td>27.0</td>\n",
       "      <td>18</td>\n",
       "      <td>360000</td>\n",
       "    </tr>\n",
       "    <tr>\n",
       "      <th>1</th>\n",
       "      <td>2</td>\n",
       "      <td>Kota Tua</td>\n",
       "      <td>Kota tua di Jakarta, yang juga bernama Kota Tu...</td>\n",
       "      <td>Budaya</td>\n",
       "      <td>Jakarta</td>\n",
       "      <td>0</td>\n",
       "      <td>4.6</td>\n",
       "      <td>90.0</td>\n",
       "      <td>29.0</td>\n",
       "      <td>25</td>\n",
       "      <td>0</td>\n",
       "    </tr>\n",
       "    <tr>\n",
       "      <th>2</th>\n",
       "      <td>3</td>\n",
       "      <td>Dunia Fantasi</td>\n",
       "      <td>Dunia Fantasi atau disebut juga Dufan adalah t...</td>\n",
       "      <td>Taman Hiburan</td>\n",
       "      <td>Jakarta</td>\n",
       "      <td>270000</td>\n",
       "      <td>4.6</td>\n",
       "      <td>360.0</td>\n",
       "      <td>28.0</td>\n",
       "      <td>19</td>\n",
       "      <td>5130000</td>\n",
       "    </tr>\n",
       "    <tr>\n",
       "      <th>3</th>\n",
       "      <td>4</td>\n",
       "      <td>Taman Mini Indonesia Indah (TMII)</td>\n",
       "      <td>Taman Mini Indonesia Indah merupakan suatu kaw...</td>\n",
       "      <td>Taman Hiburan</td>\n",
       "      <td>Jakarta</td>\n",
       "      <td>10000</td>\n",
       "      <td>4.5</td>\n",
       "      <td>NaN</td>\n",
       "      <td>30.0</td>\n",
       "      <td>21</td>\n",
       "      <td>210000</td>\n",
       "    </tr>\n",
       "    <tr>\n",
       "      <th>4</th>\n",
       "      <td>5</td>\n",
       "      <td>Atlantis Water Adventure</td>\n",
       "      <td>Atlantis Water Adventure atau dikenal dengan A...</td>\n",
       "      <td>Taman Hiburan</td>\n",
       "      <td>Jakarta</td>\n",
       "      <td>94000</td>\n",
       "      <td>4.5</td>\n",
       "      <td>60.0</td>\n",
       "      <td>29.0</td>\n",
       "      <td>25</td>\n",
       "      <td>2350000</td>\n",
       "    </tr>\n",
       "  </tbody>\n",
       "</table>\n",
       "</div>"
      ],
      "text/plain": [
       "   Place_Id                         Place_Name  \\\n",
       "0         1                   Monumen Nasional   \n",
       "1         2                           Kota Tua   \n",
       "2         3                      Dunia Fantasi   \n",
       "3         4  Taman Mini Indonesia Indah (TMII)   \n",
       "4         5           Atlantis Water Adventure   \n",
       "\n",
       "                                         Description       Category     City  \\\n",
       "0  Monumen Nasional atau yang populer disingkat d...         Budaya  Jakarta   \n",
       "1  Kota tua di Jakarta, yang juga bernama Kota Tu...         Budaya  Jakarta   \n",
       "2  Dunia Fantasi atau disebut juga Dufan adalah t...  Taman Hiburan  Jakarta   \n",
       "3  Taman Mini Indonesia Indah merupakan suatu kaw...  Taman Hiburan  Jakarta   \n",
       "4  Atlantis Water Adventure atau dikenal dengan A...  Taman Hiburan  Jakarta   \n",
       "\n",
       "    Price  Rating  Time_Minutes  age_mean  visitor_count  pendapatan  \n",
       "0   20000     4.6          15.0      27.0             18      360000  \n",
       "1       0     4.6          90.0      29.0             25           0  \n",
       "2  270000     4.6         360.0      28.0             19     5130000  \n",
       "3   10000     4.5           NaN      30.0             21      210000  \n",
       "4   94000     4.5          60.0      29.0             25     2350000  "
      ]
     },
     "execution_count": 527,
     "metadata": {},
     "output_type": "execute_result"
    }
   ],
   "source": [
    "#menambah rata-rata usia pengunjung per lokasi wisata\n",
    "tourism_id['age_mean'] = tourism_id['Place_Id'].map(age_mean)\n",
    "#menambah kolom jumlah pengunjung per lokasi wisata\n",
    "tourism_id['visitor_count'] = tourism_id['Place_Id'].map(count_place)\n",
    "tourism_id['pendapatan'] = tourism_id['Price'] * tourism_id['visitor_count']\n",
    "tourism_id.head()"
   ]
  },
  {
   "cell_type": "code",
   "execution_count": 528,
   "id": "e86d5912-8ab9-4a79-b6ea-4942727f46cc",
   "metadata": {
    "tags": []
   },
   "outputs": [
    {
     "data": {
      "text/plain": [
       "437"
      ]
     },
     "execution_count": 528,
     "metadata": {},
     "output_type": "execute_result"
    }
   ],
   "source": [
    "#menghitung jumlah nama lokasi \n",
    "tourism_id['Place_Name'].nunique()"
   ]
  },
  {
   "cell_type": "code",
   "execution_count": 529,
   "id": "ce59f402-3047-4f6e-8da5-c08e5bd859a0",
   "metadata": {},
   "outputs": [
    {
     "data": {
      "text/html": [
       "<div>\n",
       "<style scoped>\n",
       "    .dataframe tbody tr th:only-of-type {\n",
       "        vertical-align: middle;\n",
       "    }\n",
       "\n",
       "    .dataframe tbody tr th {\n",
       "        vertical-align: top;\n",
       "    }\n",
       "\n",
       "    .dataframe thead th {\n",
       "        text-align: right;\n",
       "    }\n",
       "</style>\n",
       "<table border=\"1\" class=\"dataframe\">\n",
       "  <thead>\n",
       "    <tr style=\"text-align: right;\">\n",
       "      <th></th>\n",
       "      <th>Place_Id</th>\n",
       "      <th>Price</th>\n",
       "      <th>Rating</th>\n",
       "      <th>Time_Minutes</th>\n",
       "      <th>age_mean</th>\n",
       "      <th>visitor_count</th>\n",
       "      <th>pendapatan</th>\n",
       "    </tr>\n",
       "  </thead>\n",
       "  <tbody>\n",
       "    <tr>\n",
       "      <th>count</th>\n",
       "      <td>437.000000</td>\n",
       "      <td>437.000000</td>\n",
       "      <td>437.000000</td>\n",
       "      <td>205.000000</td>\n",
       "      <td>437.000000</td>\n",
       "      <td>437.000000</td>\n",
       "      <td>4.370000e+02</td>\n",
       "    </tr>\n",
       "    <tr>\n",
       "      <th>mean</th>\n",
       "      <td>219.000000</td>\n",
       "      <td>24652.173913</td>\n",
       "      <td>4.442792</td>\n",
       "      <td>82.609756</td>\n",
       "      <td>28.755149</td>\n",
       "      <td>22.883295</td>\n",
       "      <td>5.429176e+05</td>\n",
       "    </tr>\n",
       "    <tr>\n",
       "      <th>std</th>\n",
       "      <td>126.295289</td>\n",
       "      <td>66446.374709</td>\n",
       "      <td>0.208587</td>\n",
       "      <td>52.872339</td>\n",
       "      <td>1.377074</td>\n",
       "      <td>4.842247</td>\n",
       "      <td>1.379387e+06</td>\n",
       "    </tr>\n",
       "    <tr>\n",
       "      <th>min</th>\n",
       "      <td>1.000000</td>\n",
       "      <td>0.000000</td>\n",
       "      <td>3.400000</td>\n",
       "      <td>10.000000</td>\n",
       "      <td>25.000000</td>\n",
       "      <td>12.000000</td>\n",
       "      <td>0.000000e+00</td>\n",
       "    </tr>\n",
       "    <tr>\n",
       "      <th>25%</th>\n",
       "      <td>110.000000</td>\n",
       "      <td>0.000000</td>\n",
       "      <td>4.300000</td>\n",
       "      <td>45.000000</td>\n",
       "      <td>28.000000</td>\n",
       "      <td>20.000000</td>\n",
       "      <td>0.000000e+00</td>\n",
       "    </tr>\n",
       "    <tr>\n",
       "      <th>50%</th>\n",
       "      <td>219.000000</td>\n",
       "      <td>5000.000000</td>\n",
       "      <td>4.500000</td>\n",
       "      <td>60.000000</td>\n",
       "      <td>29.000000</td>\n",
       "      <td>22.000000</td>\n",
       "      <td>1.260000e+05</td>\n",
       "    </tr>\n",
       "    <tr>\n",
       "      <th>75%</th>\n",
       "      <td>328.000000</td>\n",
       "      <td>20000.000000</td>\n",
       "      <td>4.600000</td>\n",
       "      <td>120.000000</td>\n",
       "      <td>30.000000</td>\n",
       "      <td>26.000000</td>\n",
       "      <td>3.900000e+05</td>\n",
       "    </tr>\n",
       "    <tr>\n",
       "      <th>max</th>\n",
       "      <td>437.000000</td>\n",
       "      <td>900000.000000</td>\n",
       "      <td>5.000000</td>\n",
       "      <td>360.000000</td>\n",
       "      <td>33.000000</td>\n",
       "      <td>39.000000</td>\n",
       "      <td>1.620000e+07</td>\n",
       "    </tr>\n",
       "  </tbody>\n",
       "</table>\n",
       "</div>"
      ],
      "text/plain": [
       "         Place_Id          Price      Rating  Time_Minutes    age_mean  \\\n",
       "count  437.000000     437.000000  437.000000    205.000000  437.000000   \n",
       "mean   219.000000   24652.173913    4.442792     82.609756   28.755149   \n",
       "std    126.295289   66446.374709    0.208587     52.872339    1.377074   \n",
       "min      1.000000       0.000000    3.400000     10.000000   25.000000   \n",
       "25%    110.000000       0.000000    4.300000     45.000000   28.000000   \n",
       "50%    219.000000    5000.000000    4.500000     60.000000   29.000000   \n",
       "75%    328.000000   20000.000000    4.600000    120.000000   30.000000   \n",
       "max    437.000000  900000.000000    5.000000    360.000000   33.000000   \n",
       "\n",
       "       visitor_count    pendapatan  \n",
       "count     437.000000  4.370000e+02  \n",
       "mean       22.883295  5.429176e+05  \n",
       "std         4.842247  1.379387e+06  \n",
       "min        12.000000  0.000000e+00  \n",
       "25%        20.000000  0.000000e+00  \n",
       "50%        22.000000  1.260000e+05  \n",
       "75%        26.000000  3.900000e+05  \n",
       "max        39.000000  1.620000e+07  "
      ]
     },
     "execution_count": 529,
     "metadata": {},
     "output_type": "execute_result"
    }
   ],
   "source": [
    "#melihat statistik deskripsi\n",
    "tourism_id.describe()"
   ]
  },
  {
   "cell_type": "markdown",
   "id": "58f4022b-5e8b-4c41-b24d-0b0ef041001b",
   "metadata": {},
   "source": [
    "### Visualisasi"
   ]
  },
  {
   "cell_type": "code",
   "execution_count": 530,
   "id": "e9e00139-d155-403c-8415-72b0a9e7fda3",
   "metadata": {},
   "outputs": [
    {
     "data": {
      "text/plain": [
       "Rating\n",
       "3.4     1\n",
       "3.8     2\n",
       "3.9     3\n",
       "4.0    18\n",
       "4.1    20\n",
       "4.2    20\n",
       "4.3    47\n",
       "4.4    98\n",
       "4.5    98\n",
       "4.6    75\n",
       "4.7    37\n",
       "4.8    10\n",
       "4.9     4\n",
       "5.0     4\n",
       "Name: Rating, dtype: int64"
      ]
     },
     "execution_count": 530,
     "metadata": {},
     "output_type": "execute_result"
    }
   ],
   "source": [
    "#menghitung jumlah kuantitas rating\n",
    "tourism_id['Rating'].groupby(tourism_id['Rating']).count()"
   ]
  },
  {
   "cell_type": "code",
   "execution_count": 531,
   "id": "c3815179-ae6f-49d5-a5ce-083a91995de9",
   "metadata": {},
   "outputs": [
    {
     "data": {
      "image/png": "[encoded data removed]",
      "text/plain": [
       "<Figure size 576x432 with 1 Axes>"
      ]
     },
     "metadata": {},
     "output_type": "display_data"
    }
   ],
   "source": [
    "plt.figure()\n",
    "plt.hist(tourism_id['Rating'], range=(1, 5))\n",
    "plt.title('Rating Lokasi Wisata', fontsize=15, pad=10)\n",
    "plt.xlabel('Rating', fontsize=12)\n",
    "plt.ylabel('jumlah Rating', fontsize=12)\n",
    "plt.gcf().set_size_inches(8, 6)\n",
    "plt.show()"
   ]
  },
  {
   "cell_type": "code",
   "execution_count": 532,
   "id": "ed0e136c-d1c0-4ad6-96b3-b9615831d69d",
   "metadata": {},
   "outputs": [
    {
     "data": {
      "text/html": [
       "<div>\n",
       "<style scoped>\n",
       "    .dataframe tbody tr th:only-of-type {\n",
       "        vertical-align: middle;\n",
       "    }\n",
       "\n",
       "    .dataframe tbody tr th {\n",
       "        vertical-align: top;\n",
       "    }\n",
       "\n",
       "    .dataframe thead th {\n",
       "        text-align: right;\n",
       "    }\n",
       "</style>\n",
       "<table border=\"1\" class=\"dataframe\">\n",
       "  <thead>\n",
       "    <tr style=\"text-align: right;\">\n",
       "      <th></th>\n",
       "      <th>Category</th>\n",
       "      <th>Bandung</th>\n",
       "      <th>Jakarta</th>\n",
       "      <th>Semarang</th>\n",
       "      <th>Surabaya</th>\n",
       "      <th>Yogyakarta</th>\n",
       "    </tr>\n",
       "  </thead>\n",
       "  <tbody>\n",
       "    <tr>\n",
       "      <th>0</th>\n",
       "      <td>Bahari</td>\n",
       "      <td>NaN</td>\n",
       "      <td>8.0</td>\n",
       "      <td>4.0</td>\n",
       "      <td>1.0</td>\n",
       "      <td>34.0</td>\n",
       "    </tr>\n",
       "    <tr>\n",
       "      <th>1</th>\n",
       "      <td>Budaya</td>\n",
       "      <td>22.0</td>\n",
       "      <td>32.0</td>\n",
       "      <td>15.0</td>\n",
       "      <td>18.0</td>\n",
       "      <td>30.0</td>\n",
       "    </tr>\n",
       "    <tr>\n",
       "      <th>2</th>\n",
       "      <td>Cagar Alam</td>\n",
       "      <td>54.0</td>\n",
       "      <td>4.0</td>\n",
       "      <td>20.0</td>\n",
       "      <td>5.0</td>\n",
       "      <td>23.0</td>\n",
       "    </tr>\n",
       "    <tr>\n",
       "      <th>3</th>\n",
       "      <td>Pusat Perbelanjaan</td>\n",
       "      <td>1.0</td>\n",
       "      <td>10.0</td>\n",
       "      <td>NaN</td>\n",
       "      <td>1.0</td>\n",
       "      <td>3.0</td>\n",
       "    </tr>\n",
       "    <tr>\n",
       "      <th>4</th>\n",
       "      <td>Taman Hiburan</td>\n",
       "      <td>39.0</td>\n",
       "      <td>27.0</td>\n",
       "      <td>15.0</td>\n",
       "      <td>18.0</td>\n",
       "      <td>36.0</td>\n",
       "    </tr>\n",
       "  </tbody>\n",
       "</table>\n",
       "</div>"
      ],
      "text/plain": [
       "             Category  Bandung  Jakarta  Semarang  Surabaya  Yogyakarta\n",
       "0              Bahari      NaN      8.0       4.0       1.0        34.0\n",
       "1              Budaya     22.0     32.0      15.0      18.0        30.0\n",
       "2          Cagar Alam     54.0      4.0      20.0       5.0        23.0\n",
       "3  Pusat Perbelanjaan      1.0     10.0       NaN       1.0         3.0\n",
       "4       Taman Hiburan     39.0     27.0      15.0      18.0        36.0"
      ]
     },
     "execution_count": 532,
     "metadata": {},
     "output_type": "execute_result"
    }
   ],
   "source": [
    "x = tourism_id['Category'].groupby(tourism_id['City']).value_counts()\n",
    "x = x.reset_index(name='count')\n",
    "\n",
    "#mengubah nilai kota menjadi kolom\n",
    "x = x.pivot_table(values='count', index='Category', columns='City', aggfunc='first')\n",
    "#mengubah pivot table menjadi normal tabel\n",
    "x = pd.DataFrame(x.to_records())\n",
    "x.head()"
   ]
  },
  {
   "cell_type": "code",
   "execution_count": 533,
   "id": "32e50157-c1cf-4306-bd10-c887f3eddd05",
   "metadata": {},
   "outputs": [
    {
     "data": {
      "image/png": "[encoded data removed]",
      "text/plain": [
       "<Figure size 1008x432 with 1 Axes>"
      ]
     },
     "metadata": {},
     "output_type": "display_data"
    }
   ],
   "source": [
    "x[['Category','Bandung','Jakarta','Semarang','Surabaya','Yogyakarta']].plot(x='Category', \n",
    "                                                                            kind='bar', \n",
    "                                                                            linewidth=0, \n",
    "                                                                            alpha=1, \n",
    "                                                                            cmap='Accent',\n",
    "                                                                            align='center', \n",
    "                                                                            width=0.5)\n",
    "plt.title('Jenis Wisata per Kota', fontsize=25, pad=25)\n",
    "plt.xlabel('')\n",
    "plt.xticks(rotation=0, fontsize=12)\n",
    "plt.ylabel('Jumlah Wisata', fontsize=15)\n",
    "plt.grid(which='major', axis='both', linestyle='--', alpha=0.4) # axis untuk menentukan arah grid vertikal atau horizonta\n",
    "plt.gcf().set_size_inches(14, 6)\n",
    "plt.savefig('Jenis Wisata per Kota.jpg', dpi=288)\n",
    "plt.show()"
   ]
  },
  {
   "cell_type": "markdown",
   "id": "b1fa1d6a-814c-445e-826b-81ae0f21c414",
   "metadata": {},
   "source": [
    "# Preprocessing data"
   ]
  },
  {
   "cell_type": "code",
   "execution_count": 534,
   "id": "6d8b35fc-e6ed-40b7-8f73-7a410e11341b",
   "metadata": {},
   "outputs": [
    {
     "name": "stdout",
     "output_type": "stream",
     "text": [
      "['Budaya' 'Taman Hiburan' 'Cagar Alam' 'Bahari' 'Pusat Perbelanjaan'\n",
      " 'Tempat Ibadah']\n",
      "['Jakarta' 'Yogyakarta' 'Bandung' 'Semarang' 'Surabaya']\n"
     ]
    }
   ],
   "source": [
    "#melihat data unik untuk kolom kategori dan kota\n",
    "print(tourism_id['Category'].unique())\n",
    "print(tourism_id['City'].unique())"
   ]
  },
  {
   "cell_type": "code",
   "execution_count": 535,
   "id": "fd799a53-a229-4f10-8001-33a87d8512f5",
   "metadata": {},
   "outputs": [
    {
     "data": {
      "text/plain": [
       "Place_Id           0\n",
       "Place_Name         0\n",
       "Description        0\n",
       "Category           0\n",
       "City               0\n",
       "Price              0\n",
       "Rating             0\n",
       "Time_Minutes     232\n",
       "age_mean           0\n",
       "visitor_count      0\n",
       "pendapatan         0\n",
       "dtype: int64"
      ]
     },
     "execution_count": 535,
     "metadata": {},
     "output_type": "execute_result"
    }
   ],
   "source": [
    "#melihat nilai null di tiap kolom\n",
    "tourism_id.isnull().sum()"
   ]
  },
  {
   "cell_type": "code",
   "execution_count": 536,
   "id": "97b1b6c9-2196-43f5-a952-5a9165453af6",
   "metadata": {},
   "outputs": [],
   "source": [
    "#mengubah data kosong menjadi nol (0)\n",
    "#data nol (0) berarti kunjungan tidak dibatas waktu \n",
    "tourism_id['Time_Minutes'] = tourism_id['Time_Minutes'].fillna(0)"
   ]
  },
  {
   "cell_type": "code",
   "execution_count": 537,
   "id": "a7d45237-1409-4fcf-bdcc-e0c6e215dd03",
   "metadata": {},
   "outputs": [
    {
     "data": {
      "text/plain": [
       "Place_Id         0\n",
       "Place_Name       0\n",
       "Description      0\n",
       "Category         0\n",
       "City             0\n",
       "Price            0\n",
       "Rating           0\n",
       "Time_Minutes     0\n",
       "age_mean         0\n",
       "visitor_count    0\n",
       "pendapatan       0\n",
       "dtype: int64"
      ]
     },
     "execution_count": 537,
     "metadata": {},
     "output_type": "execute_result"
    }
   ],
   "source": [
    "#melihat nilai null di tiap kolom\n",
    "tourism_id.isnull().sum()"
   ]
  },
  {
   "cell_type": "markdown",
   "id": "f990e520-222d-4056-ae9d-0ace8dda3f35",
   "metadata": {},
   "source": [
    "### Standarisasi Kolom Kategorik"
   ]
  },
  {
   "cell_type": "code",
   "execution_count": 538,
   "id": "478f847a-078c-47b9-b5cd-60b8d8cd6baf",
   "metadata": {},
   "outputs": [
    {
     "data": {
      "text/html": [
       "<div>\n",
       "<style scoped>\n",
       "    .dataframe tbody tr th:only-of-type {\n",
       "        vertical-align: middle;\n",
       "    }\n",
       "\n",
       "    .dataframe tbody tr th {\n",
       "        vertical-align: top;\n",
       "    }\n",
       "\n",
       "    .dataframe thead th {\n",
       "        text-align: right;\n",
       "    }\n",
       "</style>\n",
       "<table border=\"1\" class=\"dataframe\">\n",
       "  <thead>\n",
       "    <tr style=\"text-align: right;\">\n",
       "      <th></th>\n",
       "      <th>Category</th>\n",
       "      <th>City</th>\n",
       "    </tr>\n",
       "  </thead>\n",
       "  <tbody>\n",
       "    <tr>\n",
       "      <th>0</th>\n",
       "      <td>1</td>\n",
       "      <td>1</td>\n",
       "    </tr>\n",
       "    <tr>\n",
       "      <th>1</th>\n",
       "      <td>1</td>\n",
       "      <td>1</td>\n",
       "    </tr>\n",
       "    <tr>\n",
       "      <th>2</th>\n",
       "      <td>4</td>\n",
       "      <td>1</td>\n",
       "    </tr>\n",
       "    <tr>\n",
       "      <th>3</th>\n",
       "      <td>4</td>\n",
       "      <td>1</td>\n",
       "    </tr>\n",
       "    <tr>\n",
       "      <th>4</th>\n",
       "      <td>4</td>\n",
       "      <td>1</td>\n",
       "    </tr>\n",
       "  </tbody>\n",
       "</table>\n",
       "</div>"
      ],
      "text/plain": [
       "   Category  City\n",
       "0         1     1\n",
       "1         1     1\n",
       "2         4     1\n",
       "3         4     1\n",
       "4         4     1"
      ]
     },
     "execution_count": 538,
     "metadata": {},
     "output_type": "execute_result"
    }
   ],
   "source": [
    "from sklearn import preprocessing\n",
    "\n",
    "le = preprocessing.LabelEncoder()\n",
    "# Membuat data frame berisi kolom kategorik\n",
    "kategorik = tourism_id[['Category','City']].copy()\n",
    "  \n",
    "# Melakukan labelEncoder per kolom kategorikal  \n",
    "for col in kategorik.columns:  \n",
    "    kategorik[col]= le.fit_transform(kategorik[col])\n",
    "\n",
    "kategorik.head()"
   ]
  },
  {
   "cell_type": "markdown",
   "id": "423f66a4-41b7-4fc1-b5a7-5b4b8abecd74",
   "metadata": {},
   "source": [
    "### Standarisasi Kolom Numerik"
   ]
  },
  {
   "cell_type": "code",
   "execution_count": 539,
   "id": "255811de-28ba-4d39-89f7-9ce58052cc8e",
   "metadata": {},
   "outputs": [
    {
     "name": "stdout",
     "output_type": "stream",
     "text": [
      "hasil standardisasi \n",
      "       Price    Rating  Time_Minutes  age_mean  visitor_count  pendapatan\n",
      "0 -0.070094  0.754544     -0.433336 -1.276010      -1.009633   -0.132760\n",
      "1 -0.371434  0.754544      0.934929  0.178009       0.437634   -0.394044\n",
      "2  3.696651  0.754544      5.860685 -0.549001      -0.802881    3.329260\n",
      "3 -0.220764  0.274579     -0.706989  0.905019      -0.389376   -0.241628\n",
      "4  1.044862  0.274579      0.387623  0.178009       0.437634    1.311563\n"
     ]
    }
   ],
   "source": [
    "from sklearn.preprocessing import StandardScaler  \n",
    "\n",
    "# Membuat data frame berisi kolom numerik\n",
    "kolom_numerik = tourism_id.iloc[:, 5:11].columns.tolist()  \n",
    "# Standardisasi data\n",
    "tourism_std = StandardScaler().fit_transform(tourism_id[kolom_numerik])  \n",
    "# Membuat DataFrame  \n",
    "tourism_std = pd.DataFrame(data=tourism_std, \n",
    "                           index=tourism_id.index, \n",
    "                           columns=tourism_id[kolom_numerik].columns)  \n",
    "# Menampilkan contoh isi data dan summary statistic  \n",
    "print('hasil standardisasi \\n',tourism_std.head())  "
   ]
  },
  {
   "cell_type": "markdown",
   "id": "2916f504-4205-447b-ad76-588e34c4c073",
   "metadata": {},
   "source": [
    "### Penggabungan data kategorik dan numerik"
   ]
  },
  {
   "cell_type": "code",
   "execution_count": 540,
   "id": "3df0e7f7-356c-40d3-a16a-ae3fdf8a1182",
   "metadata": {},
   "outputs": [
    {
     "data": {
      "text/html": [
       "<div>\n",
       "<style scoped>\n",
       "    .dataframe tbody tr th:only-of-type {\n",
       "        vertical-align: middle;\n",
       "    }\n",
       "\n",
       "    .dataframe tbody tr th {\n",
       "        vertical-align: top;\n",
       "    }\n",
       "\n",
       "    .dataframe thead th {\n",
       "        text-align: right;\n",
       "    }\n",
       "</style>\n",
       "<table border=\"1\" class=\"dataframe\">\n",
       "  <thead>\n",
       "    <tr style=\"text-align: right;\">\n",
       "      <th></th>\n",
       "      <th>Price</th>\n",
       "      <th>Rating</th>\n",
       "      <th>Time_Minutes</th>\n",
       "      <th>age_mean</th>\n",
       "      <th>visitor_count</th>\n",
       "      <th>pendapatan</th>\n",
       "      <th>Category</th>\n",
       "      <th>City</th>\n",
       "    </tr>\n",
       "  </thead>\n",
       "  <tbody>\n",
       "    <tr>\n",
       "      <th>432</th>\n",
       "      <td>-0.341300</td>\n",
       "      <td>-0.205385</td>\n",
       "      <td>0.113970</td>\n",
       "      <td>-0.549001</td>\n",
       "      <td>0.024129</td>\n",
       "      <td>-0.360658</td>\n",
       "      <td>1</td>\n",
       "      <td>3</td>\n",
       "    </tr>\n",
       "    <tr>\n",
       "      <th>433</th>\n",
       "      <td>-0.371434</td>\n",
       "      <td>0.754544</td>\n",
       "      <td>-0.706989</td>\n",
       "      <td>0.905019</td>\n",
       "      <td>0.437634</td>\n",
       "      <td>-0.394044</td>\n",
       "      <td>4</td>\n",
       "      <td>3</td>\n",
       "    </tr>\n",
       "    <tr>\n",
       "      <th>434</th>\n",
       "      <td>-0.371434</td>\n",
       "      <td>-0.205385</td>\n",
       "      <td>0.113970</td>\n",
       "      <td>-1.276010</td>\n",
       "      <td>-1.216385</td>\n",
       "      <td>-0.394044</td>\n",
       "      <td>4</td>\n",
       "      <td>3</td>\n",
       "    </tr>\n",
       "    <tr>\n",
       "      <th>435</th>\n",
       "      <td>-0.371434</td>\n",
       "      <td>0.754544</td>\n",
       "      <td>-0.706989</td>\n",
       "      <td>-0.549001</td>\n",
       "      <td>-0.182623</td>\n",
       "      <td>-0.394044</td>\n",
       "      <td>4</td>\n",
       "      <td>3</td>\n",
       "    </tr>\n",
       "    <tr>\n",
       "      <th>436</th>\n",
       "      <td>-0.220764</td>\n",
       "      <td>1.714474</td>\n",
       "      <td>-0.706989</td>\n",
       "      <td>-0.549001</td>\n",
       "      <td>3.125415</td>\n",
       "      <td>-0.118244</td>\n",
       "      <td>5</td>\n",
       "      <td>3</td>\n",
       "    </tr>\n",
       "  </tbody>\n",
       "</table>\n",
       "</div>"
      ],
      "text/plain": [
       "        Price    Rating  Time_Minutes  age_mean  visitor_count  pendapatan  \\\n",
       "432 -0.341300 -0.205385      0.113970 -0.549001       0.024129   -0.360658   \n",
       "433 -0.371434  0.754544     -0.706989  0.905019       0.437634   -0.394044   \n",
       "434 -0.371434 -0.205385      0.113970 -1.276010      -1.216385   -0.394044   \n",
       "435 -0.371434  0.754544     -0.706989 -0.549001      -0.182623   -0.394044   \n",
       "436 -0.220764  1.714474     -0.706989 -0.549001       3.125415   -0.118244   \n",
       "\n",
       "     Category  City  \n",
       "432         1     3  \n",
       "433         4     3  \n",
       "434         4     3  \n",
       "435         4     3  \n",
       "436         5     3  "
      ]
     },
     "execution_count": 540,
     "metadata": {},
     "output_type": "execute_result"
    }
   ],
   "source": [
    "# buat dataframe model berisi kolom kategorik dan numerik\n",
    "tourism_model = tourism_std.merge(kategorik, left_index = True, right_index=True, how= 'left')\n",
    "tourism_model.tail()"
   ]
  },
  {
   "cell_type": "markdown",
   "id": "83dd529c-c60f-4955-953b-d9c91e925c44",
   "metadata": {},
   "source": [
    "## Korelasi antar data"
   ]
  },
  {
   "cell_type": "code",
   "execution_count": 541,
   "id": "a6bb32af-559e-4fff-8dc9-075a4eb8d5ab",
   "metadata": {},
   "outputs": [
    {
     "data": {
      "text/plain": [
       "<AxesSubplot:>"
      ]
     },
     "execution_count": 541,
     "metadata": {},
     "output_type": "execute_result"
    },
    {
     "data": {
      "image/png": "[encoded data removed]",
      "text/plain": [
       "<Figure size 504x504 with 2 Axes>"
      ]
     },
     "metadata": {},
     "output_type": "display_data"
    }
   ],
   "source": [
    "#Korelasi antar variabel\n",
    "cor = tourism_model.corr()\n",
    "\n",
    "#Plot dengan heatmap\n",
    "fig, ax = plt.subplots(figsize=(7,7))\n",
    "sns.heatmap(cor, annot=True, square = True) "
   ]
  },
  {
   "cell_type": "markdown",
   "id": "5c2cf6b7-9ebe-49ec-a805-048b9eba7262",
   "metadata": {},
   "source": [
    "### KMeans"
   ]
  },
  {
   "cell_type": "code",
   "execution_count": 542,
   "id": "33ab2d34-a53c-4705-8f5b-91207df36f89",
   "metadata": {},
   "outputs": [],
   "source": [
    "#list distorsi kosong\n",
    "clusters = []\n",
    "\n",
    "#membuat iterasi untuk n_clusters 1-10\n",
    "for i in range(1, 11):\n",
    "    km = KMeans(n_clusters=i, \n",
    "                init='k-means++', \n",
    "                random_state=0).fit(tourism_model)\n",
    "    clusters.append(km.inertia_)"
   ]
  },
  {
   "cell_type": "code",
   "execution_count": 543,
   "id": "1a339db7-af11-479e-a01e-c9e94ea2198b",
   "metadata": {},
   "outputs": [
    {
     "data": {
      "image/png": "[encoded data removed]",
      "text/plain": [
       "<Figure size 576x396 with 1 Axes>"
      ]
     },
     "metadata": {},
     "output_type": "display_data"
    }
   ],
   "source": [
    "#menentukan n_clusters dengan elbow method\n",
    "plt.plot(range(1, 11), clusters, marker='o')\n",
    "plt.xlabel('Cluster')\n",
    "plt.ylabel('Inertia')\n",
    "plt.title(\"Finding Elbow\")\n",
    "plt.tight_layout()\n",
    "plt.show()"
   ]
  },
  {
   "cell_type": "code",
   "execution_count": 544,
   "id": "be58dc26-71cc-4678-8d5f-19cd16b42726",
   "metadata": {},
   "outputs": [],
   "source": [
    "from sklearn.metrics import silhouette_score\n",
    "#list kosong untuk menyimpan score silhouette\n",
    "all_score = []\n",
    "#membuat iterasi dari 2-10\n",
    "for i in range(2, 11):\n",
    "    km = KMeans(n_clusters=i, \n",
    "                init='k-means++',\n",
    "                random_state=0)\n",
    "    #fit dataframe terhadap kmeans\n",
    "    labels = km.fit(tourism_model).labels_\n",
    "    #menambah data score ke list all_score\n",
    "    all_score.append(silhouette_score(tourism_model, \n",
    "                                      labels, \n",
    "                                      metric=\"euclidean\"))"
   ]
  },
  {
   "cell_type": "code",
   "execution_count": 545,
   "id": "2d74ad7a-37fd-40ed-89b6-2966cc734f9d",
   "metadata": {},
   "outputs": [
    {
     "data": {
      "image/png": "[encoded data removed]",
      "text/plain": [
       "<Figure size 576x396 with 1 Axes>"
      ]
     },
     "metadata": {},
     "output_type": "display_data"
    }
   ],
   "source": [
    "#menentukan n_clusters dengan silhouette method\n",
    "plt.plot(range(2, 11), all_score, marker='o')\n",
    "plt.xlabel('Cluster')\n",
    "plt.ylabel('Score')\n",
    "plt.title(\"Finding Silhouette\")\n",
    "plt.tight_layout()\n",
    "plt.show()"
   ]
  },
  {
   "cell_type": "code",
   "execution_count": 546,
   "id": "6c112df6-1668-403d-a3fc-78a753ca9e53",
   "metadata": {},
   "outputs": [],
   "source": [
    "#n_clusters terbesar adalah 3\n",
    "#set n_clusters = 3\n",
    "km = KMeans(n_clusters=3, \n",
    "            init='k-means++',\n",
    "            random_state=0)\n",
    "tourism_km = km.fit_predict(tourism_model)"
   ]
  },
  {
   "cell_type": "code",
   "execution_count": 547,
   "id": "11e96ec3-ac90-4882-8ade-93c27057fea8",
   "metadata": {},
   "outputs": [
    {
     "name": "stdout",
     "output_type": "stream",
     "text": [
      "segmen pelanggan: [2 2 0 2 2 2 2 0 0 2 2 2 2 0 2 2 2 2 0 2 2 2 2 2 2 2 0 2 2 2 2 2 2 2 2 0 2\n",
      " 2 2 2 2 2 2 2 0 2 2 2 2 2 2 2 2 2 2 2 2 2 2 2 2 2 2 2 2 2 2 2 2 2 2 0 2 2\n",
      " 0 2 2 2 2 2 2 2 0 2 1 1 1 1 1 1 1 1 1 1 1 1 1 1 1 1 1 1 1 1 1 1 1 1 1 1 1\n",
      " 1 1 1 1 1 1 1 1 0 1 1 1 1 1 1 1 1 1 1 1 1 1 1 1 1 1 1 1 1 1 1 1 0 1 1 1 1\n",
      " 1 1 1 1 1 1 1 1 1 1 1 1 1 0 1 1 1 1 1 1 1 1 1 1 1 1 1 1 1 1 1 1 1 1 0 1 1\n",
      " 1 1 1 1 1 1 1 1 1 1 1 1 1 1 1 1 1 1 1 1 1 1 1 1 1 2 2 2 0 2 2 2 2 2 2 2 2\n",
      " 2 2 2 2 2 2 2 2 2 2 2 2 2 2 2 2 2 2 2 2 2 2 2 2 2 2 2 2 2 2 2 2 2 2 2 2 2\n",
      " 2 2 2 2 2 2 2 2 2 2 2 2 2 2 2 2 2 2 2 2 2 2 2 2 2 2 2 2 2 2 2 2 2 2 2 2 2\n",
      " 0 2 2 2 2 2 2 2 2 2 2 2 2 2 2 2 2 2 2 2 2 2 2 2 2 2 2 2 2 2 2 2 2 2 0 2 2\n",
      " 2 1 2 2 1 1 2 1 2 1 1 1 2 2 1 1 1 1 2 2 1 1 0 1 2 1 1 2 1 1 2 1 2 1 1 1 1\n",
      " 1 1 1 1 1 1 2 2 1 2 1 0 2 1 1 1 1 1 1 1 1 1 1 1 1 1 1 1 1 1 1 1 1 1 1 1 1\n",
      " 1 1 1 1 1 1 1 1 1 1 1 1 1 1 1 1 1 1 1 1 1 1 0 1 1 1 1 1 1 1] "
     ]
    }
   ],
   "source": [
    "print('segmen pelanggan:', tourism_km, end=' ')"
   ]
  },
  {
   "cell_type": "code",
   "execution_count": 548,
   "id": "7540ec93-44df-47b1-be3a-0fe574c95c9e",
   "metadata": {},
   "outputs": [
    {
     "data": {
      "text/html": [
       "<div>\n",
       "<style scoped>\n",
       "    .dataframe tbody tr th:only-of-type {\n",
       "        vertical-align: middle;\n",
       "    }\n",
       "\n",
       "    .dataframe tbody tr th {\n",
       "        vertical-align: top;\n",
       "    }\n",
       "\n",
       "    .dataframe thead th {\n",
       "        text-align: right;\n",
       "    }\n",
       "</style>\n",
       "<table border=\"1\" class=\"dataframe\">\n",
       "  <thead>\n",
       "    <tr style=\"text-align: right;\">\n",
       "      <th></th>\n",
       "      <th>Place_Id</th>\n",
       "      <th>Place_Name</th>\n",
       "      <th>Description</th>\n",
       "      <th>Category</th>\n",
       "      <th>City</th>\n",
       "      <th>Price</th>\n",
       "      <th>Rating</th>\n",
       "      <th>Time_Minutes</th>\n",
       "      <th>age_mean</th>\n",
       "      <th>visitor_count</th>\n",
       "      <th>pendapatan</th>\n",
       "      <th>cluster</th>\n",
       "    </tr>\n",
       "  </thead>\n",
       "  <tbody>\n",
       "    <tr>\n",
       "      <th>0</th>\n",
       "      <td>1</td>\n",
       "      <td>Monumen Nasional</td>\n",
       "      <td>Monumen Nasional atau yang populer disingkat d...</td>\n",
       "      <td>Budaya</td>\n",
       "      <td>Jakarta</td>\n",
       "      <td>20000</td>\n",
       "      <td>4.6</td>\n",
       "      <td>15.0</td>\n",
       "      <td>27.0</td>\n",
       "      <td>18</td>\n",
       "      <td>360000</td>\n",
       "      <td>2</td>\n",
       "    </tr>\n",
       "    <tr>\n",
       "      <th>1</th>\n",
       "      <td>2</td>\n",
       "      <td>Kota Tua</td>\n",
       "      <td>Kota tua di Jakarta, yang juga bernama Kota Tu...</td>\n",
       "      <td>Budaya</td>\n",
       "      <td>Jakarta</td>\n",
       "      <td>0</td>\n",
       "      <td>4.6</td>\n",
       "      <td>90.0</td>\n",
       "      <td>29.0</td>\n",
       "      <td>25</td>\n",
       "      <td>0</td>\n",
       "      <td>2</td>\n",
       "    </tr>\n",
       "    <tr>\n",
       "      <th>2</th>\n",
       "      <td>3</td>\n",
       "      <td>Dunia Fantasi</td>\n",
       "      <td>Dunia Fantasi atau disebut juga Dufan adalah t...</td>\n",
       "      <td>Taman Hiburan</td>\n",
       "      <td>Jakarta</td>\n",
       "      <td>270000</td>\n",
       "      <td>4.6</td>\n",
       "      <td>360.0</td>\n",
       "      <td>28.0</td>\n",
       "      <td>19</td>\n",
       "      <td>5130000</td>\n",
       "      <td>0</td>\n",
       "    </tr>\n",
       "    <tr>\n",
       "      <th>3</th>\n",
       "      <td>4</td>\n",
       "      <td>Taman Mini Indonesia Indah (TMII)</td>\n",
       "      <td>Taman Mini Indonesia Indah merupakan suatu kaw...</td>\n",
       "      <td>Taman Hiburan</td>\n",
       "      <td>Jakarta</td>\n",
       "      <td>10000</td>\n",
       "      <td>4.5</td>\n",
       "      <td>0.0</td>\n",
       "      <td>30.0</td>\n",
       "      <td>21</td>\n",
       "      <td>210000</td>\n",
       "      <td>2</td>\n",
       "    </tr>\n",
       "    <tr>\n",
       "      <th>4</th>\n",
       "      <td>5</td>\n",
       "      <td>Atlantis Water Adventure</td>\n",
       "      <td>Atlantis Water Adventure atau dikenal dengan A...</td>\n",
       "      <td>Taman Hiburan</td>\n",
       "      <td>Jakarta</td>\n",
       "      <td>94000</td>\n",
       "      <td>4.5</td>\n",
       "      <td>60.0</td>\n",
       "      <td>29.0</td>\n",
       "      <td>25</td>\n",
       "      <td>2350000</td>\n",
       "      <td>2</td>\n",
       "    </tr>\n",
       "  </tbody>\n",
       "</table>\n",
       "</div>"
      ],
      "text/plain": [
       "   Place_Id                         Place_Name  \\\n",
       "0         1                   Monumen Nasional   \n",
       "1         2                           Kota Tua   \n",
       "2         3                      Dunia Fantasi   \n",
       "3         4  Taman Mini Indonesia Indah (TMII)   \n",
       "4         5           Atlantis Water Adventure   \n",
       "\n",
       "                                         Description       Category     City  \\\n",
       "0  Monumen Nasional atau yang populer disingkat d...         Budaya  Jakarta   \n",
       "1  Kota tua di Jakarta, yang juga bernama Kota Tu...         Budaya  Jakarta   \n",
       "2  Dunia Fantasi atau disebut juga Dufan adalah t...  Taman Hiburan  Jakarta   \n",
       "3  Taman Mini Indonesia Indah merupakan suatu kaw...  Taman Hiburan  Jakarta   \n",
       "4  Atlantis Water Adventure atau dikenal dengan A...  Taman Hiburan  Jakarta   \n",
       "\n",
       "    Price  Rating  Time_Minutes  age_mean  visitor_count  pendapatan  cluster  \n",
       "0   20000     4.6          15.0      27.0             18      360000        2  \n",
       "1       0     4.6          90.0      29.0             25           0        2  \n",
       "2  270000     4.6         360.0      28.0             19     5130000        0  \n",
       "3   10000     4.5           0.0      30.0             21      210000        2  \n",
       "4   94000     4.5          60.0      29.0             25     2350000        2  "
      ]
     },
     "execution_count": 548,
     "metadata": {},
     "output_type": "execute_result"
    }
   ],
   "source": [
    "# Menggabungkan data awal dengann clusternya   \n",
    "tourism_final = tourism_id.copy()    \n",
    "tourism_final['cluster'] = tourism_km\n",
    "tourism_final.head()"
   ]
  },
  {
   "cell_type": "code",
   "execution_count": 549,
   "id": "b857ecb8-b631-4065-8dc5-ce7728147c9b",
   "metadata": {},
   "outputs": [
    {
     "data": {
      "text/html": [
       "<div>\n",
       "<style scoped>\n",
       "    .dataframe tbody tr th:only-of-type {\n",
       "        vertical-align: middle;\n",
       "    }\n",
       "\n",
       "    .dataframe tbody tr th {\n",
       "        vertical-align: top;\n",
       "    }\n",
       "\n",
       "    .dataframe thead th {\n",
       "        text-align: right;\n",
       "    }\n",
       "</style>\n",
       "<table border=\"1\" class=\"dataframe\">\n",
       "  <thead>\n",
       "    <tr style=\"text-align: right;\">\n",
       "      <th></th>\n",
       "      <th>Place_Id</th>\n",
       "      <th>Place_Name</th>\n",
       "      <th>Description</th>\n",
       "      <th>Category</th>\n",
       "      <th>City</th>\n",
       "      <th>Price</th>\n",
       "      <th>Rating</th>\n",
       "      <th>Time_Minutes</th>\n",
       "      <th>age_mean</th>\n",
       "      <th>visitor_count</th>\n",
       "      <th>pendapatan</th>\n",
       "      <th>cluster</th>\n",
       "    </tr>\n",
       "  </thead>\n",
       "  <tbody>\n",
       "    <tr>\n",
       "      <th>2</th>\n",
       "      <td>3</td>\n",
       "      <td>Dunia Fantasi</td>\n",
       "      <td>Dunia Fantasi atau disebut juga Dufan adalah t...</td>\n",
       "      <td>Taman Hiburan</td>\n",
       "      <td>Jakarta</td>\n",
       "      <td>270000</td>\n",
       "      <td>4.6</td>\n",
       "      <td>360.0</td>\n",
       "      <td>28.0</td>\n",
       "      <td>19</td>\n",
       "      <td>5130000</td>\n",
       "      <td>0</td>\n",
       "    </tr>\n",
       "    <tr>\n",
       "      <th>7</th>\n",
       "      <td>8</td>\n",
       "      <td>Ocean Ecopark</td>\n",
       "      <td>Ocean Ecopark Salah satu zona rekreasi Ancol y...</td>\n",
       "      <td>Taman Hiburan</td>\n",
       "      <td>Jakarta</td>\n",
       "      <td>180000</td>\n",
       "      <td>4.0</td>\n",
       "      <td>0.0</td>\n",
       "      <td>29.0</td>\n",
       "      <td>30</td>\n",
       "      <td>5400000</td>\n",
       "      <td>0</td>\n",
       "    </tr>\n",
       "    <tr>\n",
       "      <th>8</th>\n",
       "      <td>9</td>\n",
       "      <td>Pelabuhan Marina</td>\n",
       "      <td>Pelabuhan Marina Ancol berada di kawasan Taman...</td>\n",
       "      <td>Bahari</td>\n",
       "      <td>Jakarta</td>\n",
       "      <td>175000</td>\n",
       "      <td>4.4</td>\n",
       "      <td>0.0</td>\n",
       "      <td>29.0</td>\n",
       "      <td>19</td>\n",
       "      <td>3325000</td>\n",
       "      <td>0</td>\n",
       "    </tr>\n",
       "    <tr>\n",
       "      <th>13</th>\n",
       "      <td>14</td>\n",
       "      <td>Pulau Pelangi</td>\n",
       "      <td>Pulau Pelangi adalah sebuah pulau yang terleta...</td>\n",
       "      <td>Bahari</td>\n",
       "      <td>Jakarta</td>\n",
       "      <td>900000</td>\n",
       "      <td>4.8</td>\n",
       "      <td>0.0</td>\n",
       "      <td>29.0</td>\n",
       "      <td>18</td>\n",
       "      <td>16200000</td>\n",
       "      <td>0</td>\n",
       "    </tr>\n",
       "    <tr>\n",
       "      <th>18</th>\n",
       "      <td>19</td>\n",
       "      <td>Kidzania</td>\n",
       "      <td>KidZania adalah sebuah waralaba swasta Meksiko...</td>\n",
       "      <td>Taman Hiburan</td>\n",
       "      <td>Jakarta</td>\n",
       "      <td>185000</td>\n",
       "      <td>4.6</td>\n",
       "      <td>300.0</td>\n",
       "      <td>28.0</td>\n",
       "      <td>21</td>\n",
       "      <td>3885000</td>\n",
       "      <td>0</td>\n",
       "    </tr>\n",
       "  </tbody>\n",
       "</table>\n",
       "</div>"
      ],
      "text/plain": [
       "    Place_Id        Place_Name  \\\n",
       "2          3     Dunia Fantasi   \n",
       "7          8     Ocean Ecopark   \n",
       "8          9  Pelabuhan Marina   \n",
       "13        14     Pulau Pelangi   \n",
       "18        19          Kidzania   \n",
       "\n",
       "                                          Description       Category     City  \\\n",
       "2   Dunia Fantasi atau disebut juga Dufan adalah t...  Taman Hiburan  Jakarta   \n",
       "7   Ocean Ecopark Salah satu zona rekreasi Ancol y...  Taman Hiburan  Jakarta   \n",
       "8   Pelabuhan Marina Ancol berada di kawasan Taman...         Bahari  Jakarta   \n",
       "13  Pulau Pelangi adalah sebuah pulau yang terleta...         Bahari  Jakarta   \n",
       "18  KidZania adalah sebuah waralaba swasta Meksiko...  Taman Hiburan  Jakarta   \n",
       "\n",
       "     Price  Rating  Time_Minutes  age_mean  visitor_count  pendapatan  cluster  \n",
       "2   270000     4.6         360.0      28.0             19     5130000        0  \n",
       "7   180000     4.0           0.0      29.0             30     5400000        0  \n",
       "8   175000     4.4           0.0      29.0             19     3325000        0  \n",
       "13  900000     4.8           0.0      29.0             18    16200000        0  \n",
       "18  185000     4.6         300.0      28.0             21     3885000        0  "
      ]
     },
     "execution_count": 549,
     "metadata": {},
     "output_type": "execute_result"
    }
   ],
   "source": [
    "#cluster 0\n",
    "cluster_nol =tourism_final.loc[(tourism_final['cluster'].isin([0]))]\n",
    "cluster_nol.head()"
   ]
  },
  {
   "cell_type": "code",
   "execution_count": 550,
   "id": "c92fcd73-1db9-4cff-96df-4cd4d0391c1b",
   "metadata": {},
   "outputs": [
    {
     "data": {
      "text/html": [
       "<div>\n",
       "<style scoped>\n",
       "    .dataframe tbody tr th:only-of-type {\n",
       "        vertical-align: middle;\n",
       "    }\n",
       "\n",
       "    .dataframe tbody tr th {\n",
       "        vertical-align: top;\n",
       "    }\n",
       "\n",
       "    .dataframe thead th {\n",
       "        text-align: right;\n",
       "    }\n",
       "</style>\n",
       "<table border=\"1\" class=\"dataframe\">\n",
       "  <thead>\n",
       "    <tr style=\"text-align: right;\">\n",
       "      <th></th>\n",
       "      <th>Place_Id</th>\n",
       "      <th>Place_Name</th>\n",
       "      <th>Description</th>\n",
       "      <th>Category</th>\n",
       "      <th>City</th>\n",
       "      <th>Price</th>\n",
       "      <th>Rating</th>\n",
       "      <th>Time_Minutes</th>\n",
       "      <th>age_mean</th>\n",
       "      <th>visitor_count</th>\n",
       "      <th>pendapatan</th>\n",
       "      <th>cluster</th>\n",
       "    </tr>\n",
       "  </thead>\n",
       "  <tbody>\n",
       "    <tr>\n",
       "      <th>84</th>\n",
       "      <td>85</td>\n",
       "      <td>Taman Pintar Yogyakarta</td>\n",
       "      <td>Taman Pintar Yogyakarta (bahasa Jawa: Hanacara...</td>\n",
       "      <td>Taman Hiburan</td>\n",
       "      <td>Yogyakarta</td>\n",
       "      <td>6000</td>\n",
       "      <td>4.5</td>\n",
       "      <td>120.0</td>\n",
       "      <td>29.0</td>\n",
       "      <td>25</td>\n",
       "      <td>150000</td>\n",
       "      <td>1</td>\n",
       "    </tr>\n",
       "    <tr>\n",
       "      <th>85</th>\n",
       "      <td>86</td>\n",
       "      <td>Keraton Yogyakarta</td>\n",
       "      <td>Keraton Ngayogyakarta Hadiningrat atau Keraton...</td>\n",
       "      <td>Budaya</td>\n",
       "      <td>Yogyakarta</td>\n",
       "      <td>15000</td>\n",
       "      <td>4.6</td>\n",
       "      <td>0.0</td>\n",
       "      <td>28.0</td>\n",
       "      <td>25</td>\n",
       "      <td>375000</td>\n",
       "      <td>1</td>\n",
       "    </tr>\n",
       "    <tr>\n",
       "      <th>86</th>\n",
       "      <td>87</td>\n",
       "      <td>Sindu Kusuma Edupark (SKE)</td>\n",
       "      <td>Sindu Kusuma Edupark (SKE) merupakan sebuah de...</td>\n",
       "      <td>Taman Hiburan</td>\n",
       "      <td>Yogyakarta</td>\n",
       "      <td>20000</td>\n",
       "      <td>4.2</td>\n",
       "      <td>120.0</td>\n",
       "      <td>29.0</td>\n",
       "      <td>19</td>\n",
       "      <td>380000</td>\n",
       "      <td>1</td>\n",
       "    </tr>\n",
       "    <tr>\n",
       "      <th>87</th>\n",
       "      <td>88</td>\n",
       "      <td>Museum Benteng Vredeburg Yogyakarta</td>\n",
       "      <td>Museum Benteng Vredeburg (bahasa Jawa: ꦩꦸꦱꦶꦪꦸꦩ...</td>\n",
       "      <td>Budaya</td>\n",
       "      <td>Yogyakarta</td>\n",
       "      <td>3000</td>\n",
       "      <td>4.6</td>\n",
       "      <td>120.0</td>\n",
       "      <td>28.0</td>\n",
       "      <td>32</td>\n",
       "      <td>96000</td>\n",
       "      <td>1</td>\n",
       "    </tr>\n",
       "    <tr>\n",
       "      <th>88</th>\n",
       "      <td>89</td>\n",
       "      <td>De Mata Museum Jogja</td>\n",
       "      <td>Museum De Mata merupakan salah satu museum yan...</td>\n",
       "      <td>Budaya</td>\n",
       "      <td>Yogyakarta</td>\n",
       "      <td>50000</td>\n",
       "      <td>4.4</td>\n",
       "      <td>0.0</td>\n",
       "      <td>29.0</td>\n",
       "      <td>31</td>\n",
       "      <td>1550000</td>\n",
       "      <td>1</td>\n",
       "    </tr>\n",
       "  </tbody>\n",
       "</table>\n",
       "</div>"
      ],
      "text/plain": [
       "    Place_Id                           Place_Name  \\\n",
       "84        85              Taman Pintar Yogyakarta   \n",
       "85        86                   Keraton Yogyakarta   \n",
       "86        87           Sindu Kusuma Edupark (SKE)   \n",
       "87        88  Museum Benteng Vredeburg Yogyakarta   \n",
       "88        89                 De Mata Museum Jogja   \n",
       "\n",
       "                                          Description       Category  \\\n",
       "84  Taman Pintar Yogyakarta (bahasa Jawa: Hanacara...  Taman Hiburan   \n",
       "85  Keraton Ngayogyakarta Hadiningrat atau Keraton...         Budaya   \n",
       "86  Sindu Kusuma Edupark (SKE) merupakan sebuah de...  Taman Hiburan   \n",
       "87  Museum Benteng Vredeburg (bahasa Jawa: ꦩꦸꦱꦶꦪꦸꦩ...         Budaya   \n",
       "88  Museum De Mata merupakan salah satu museum yan...         Budaya   \n",
       "\n",
       "          City  Price  Rating  Time_Minutes  age_mean  visitor_count  \\\n",
       "84  Yogyakarta   6000     4.5         120.0      29.0             25   \n",
       "85  Yogyakarta  15000     4.6           0.0      28.0             25   \n",
       "86  Yogyakarta  20000     4.2         120.0      29.0             19   \n",
       "87  Yogyakarta   3000     4.6         120.0      28.0             32   \n",
       "88  Yogyakarta  50000     4.4           0.0      29.0             31   \n",
       "\n",
       "    pendapatan  cluster  \n",
       "84      150000        1  \n",
       "85      375000        1  \n",
       "86      380000        1  \n",
       "87       96000        1  \n",
       "88     1550000        1  "
      ]
     },
     "execution_count": 550,
     "metadata": {},
     "output_type": "execute_result"
    }
   ],
   "source": [
    "#cluster 1\n",
    "cluster_satu =tourism_final.loc[(tourism_final['cluster'].isin([1]))]\n",
    "cluster_satu.head()"
   ]
  },
  {
   "cell_type": "code",
   "execution_count": 551,
   "id": "7122a0bc-0292-44c5-8e3f-267d0610a1e7",
   "metadata": {},
   "outputs": [
    {
     "data": {
      "text/html": [
       "<div>\n",
       "<style scoped>\n",
       "    .dataframe tbody tr th:only-of-type {\n",
       "        vertical-align: middle;\n",
       "    }\n",
       "\n",
       "    .dataframe tbody tr th {\n",
       "        vertical-align: top;\n",
       "    }\n",
       "\n",
       "    .dataframe thead th {\n",
       "        text-align: right;\n",
       "    }\n",
       "</style>\n",
       "<table border=\"1\" class=\"dataframe\">\n",
       "  <thead>\n",
       "    <tr style=\"text-align: right;\">\n",
       "      <th></th>\n",
       "      <th>Place_Id</th>\n",
       "      <th>Place_Name</th>\n",
       "      <th>Description</th>\n",
       "      <th>Category</th>\n",
       "      <th>City</th>\n",
       "      <th>Price</th>\n",
       "      <th>Rating</th>\n",
       "      <th>Time_Minutes</th>\n",
       "      <th>age_mean</th>\n",
       "      <th>visitor_count</th>\n",
       "      <th>pendapatan</th>\n",
       "      <th>cluster</th>\n",
       "    </tr>\n",
       "  </thead>\n",
       "  <tbody>\n",
       "    <tr>\n",
       "      <th>0</th>\n",
       "      <td>1</td>\n",
       "      <td>Monumen Nasional</td>\n",
       "      <td>Monumen Nasional atau yang populer disingkat d...</td>\n",
       "      <td>Budaya</td>\n",
       "      <td>Jakarta</td>\n",
       "      <td>20000</td>\n",
       "      <td>4.6</td>\n",
       "      <td>15.0</td>\n",
       "      <td>27.0</td>\n",
       "      <td>18</td>\n",
       "      <td>360000</td>\n",
       "      <td>2</td>\n",
       "    </tr>\n",
       "    <tr>\n",
       "      <th>1</th>\n",
       "      <td>2</td>\n",
       "      <td>Kota Tua</td>\n",
       "      <td>Kota tua di Jakarta, yang juga bernama Kota Tu...</td>\n",
       "      <td>Budaya</td>\n",
       "      <td>Jakarta</td>\n",
       "      <td>0</td>\n",
       "      <td>4.6</td>\n",
       "      <td>90.0</td>\n",
       "      <td>29.0</td>\n",
       "      <td>25</td>\n",
       "      <td>0</td>\n",
       "      <td>2</td>\n",
       "    </tr>\n",
       "    <tr>\n",
       "      <th>3</th>\n",
       "      <td>4</td>\n",
       "      <td>Taman Mini Indonesia Indah (TMII)</td>\n",
       "      <td>Taman Mini Indonesia Indah merupakan suatu kaw...</td>\n",
       "      <td>Taman Hiburan</td>\n",
       "      <td>Jakarta</td>\n",
       "      <td>10000</td>\n",
       "      <td>4.5</td>\n",
       "      <td>0.0</td>\n",
       "      <td>30.0</td>\n",
       "      <td>21</td>\n",
       "      <td>210000</td>\n",
       "      <td>2</td>\n",
       "    </tr>\n",
       "    <tr>\n",
       "      <th>4</th>\n",
       "      <td>5</td>\n",
       "      <td>Atlantis Water Adventure</td>\n",
       "      <td>Atlantis Water Adventure atau dikenal dengan A...</td>\n",
       "      <td>Taman Hiburan</td>\n",
       "      <td>Jakarta</td>\n",
       "      <td>94000</td>\n",
       "      <td>4.5</td>\n",
       "      <td>60.0</td>\n",
       "      <td>29.0</td>\n",
       "      <td>25</td>\n",
       "      <td>2350000</td>\n",
       "      <td>2</td>\n",
       "    </tr>\n",
       "    <tr>\n",
       "      <th>5</th>\n",
       "      <td>6</td>\n",
       "      <td>Taman Impian Jaya Ancol</td>\n",
       "      <td>Taman Impian Jaya Ancol merupakan sebuah objek...</td>\n",
       "      <td>Taman Hiburan</td>\n",
       "      <td>Jakarta</td>\n",
       "      <td>25000</td>\n",
       "      <td>4.5</td>\n",
       "      <td>10.0</td>\n",
       "      <td>30.0</td>\n",
       "      <td>24</td>\n",
       "      <td>600000</td>\n",
       "      <td>2</td>\n",
       "    </tr>\n",
       "  </tbody>\n",
       "</table>\n",
       "</div>"
      ],
      "text/plain": [
       "   Place_Id                         Place_Name  \\\n",
       "0         1                   Monumen Nasional   \n",
       "1         2                           Kota Tua   \n",
       "3         4  Taman Mini Indonesia Indah (TMII)   \n",
       "4         5           Atlantis Water Adventure   \n",
       "5         6            Taman Impian Jaya Ancol   \n",
       "\n",
       "                                         Description       Category     City  \\\n",
       "0  Monumen Nasional atau yang populer disingkat d...         Budaya  Jakarta   \n",
       "1  Kota tua di Jakarta, yang juga bernama Kota Tu...         Budaya  Jakarta   \n",
       "3  Taman Mini Indonesia Indah merupakan suatu kaw...  Taman Hiburan  Jakarta   \n",
       "4  Atlantis Water Adventure atau dikenal dengan A...  Taman Hiburan  Jakarta   \n",
       "5  Taman Impian Jaya Ancol merupakan sebuah objek...  Taman Hiburan  Jakarta   \n",
       "\n",
       "   Price  Rating  Time_Minutes  age_mean  visitor_count  pendapatan  cluster  \n",
       "0  20000     4.6          15.0      27.0             18      360000        2  \n",
       "1      0     4.6          90.0      29.0             25           0        2  \n",
       "3  10000     4.5           0.0      30.0             21      210000        2  \n",
       "4  94000     4.5          60.0      29.0             25     2350000        2  \n",
       "5  25000     4.5          10.0      30.0             24      600000        2  "
      ]
     },
     "execution_count": 551,
     "metadata": {},
     "output_type": "execute_result"
    }
   ],
   "source": [
    "#cluster 2\n",
    "cluster_dua =tourism_final.loc[(tourism_final['cluster'].isin([2]))]\n",
    "cluster_dua.head()"
   ]
  },
  {
   "cell_type": "code",
   "execution_count": 552,
   "id": "b9d029de-9bd1-45ba-adbe-1c7293f3ed8b",
   "metadata": {},
   "outputs": [
    {
     "name": "stdout",
     "output_type": "stream",
     "text": [
      "\n",
      "Pelanggan cluster: 0\n",
      "\n",
      "    Place_Id        Place_Name  \\\n",
      "2          3     Dunia Fantasi   \n",
      "7          8     Ocean Ecopark   \n",
      "8          9  Pelabuhan Marina   \n",
      "13        14     Pulau Pelangi   \n",
      "18        19          Kidzania   \n",
      "\n",
      "                                          Description       Category     City  \\\n",
      "2   Dunia Fantasi atau disebut juga Dufan adalah t...  Taman Hiburan  Jakarta   \n",
      "7   Ocean Ecopark Salah satu zona rekreasi Ancol y...  Taman Hiburan  Jakarta   \n",
      "8   Pelabuhan Marina Ancol berada di kawasan Taman...         Bahari  Jakarta   \n",
      "13  Pulau Pelangi adalah sebuah pulau yang terleta...         Bahari  Jakarta   \n",
      "18  KidZania adalah sebuah waralaba swasta Meksiko...  Taman Hiburan  Jakarta   \n",
      "\n",
      "     Price  Rating  Time_Minutes  age_mean  visitor_count  pendapatan  cluster  \n",
      "2   270000     4.6         360.0      28.0             19     5130000        0  \n",
      "7   180000     4.0           0.0      29.0             30     5400000        0  \n",
      "8   175000     4.4           0.0      29.0             19     3325000        0  \n",
      "13  900000     4.8           0.0      29.0             18    16200000        0  \n",
      "18  185000     4.6         300.0      28.0             21     3885000        0  \n",
      "\n",
      "Pelanggan cluster: 1\n",
      "\n",
      "    Place_Id                           Place_Name  \\\n",
      "84        85              Taman Pintar Yogyakarta   \n",
      "85        86                   Keraton Yogyakarta   \n",
      "86        87           Sindu Kusuma Edupark (SKE)   \n",
      "87        88  Museum Benteng Vredeburg Yogyakarta   \n",
      "88        89                 De Mata Museum Jogja   \n",
      "\n",
      "                                          Description       Category  \\\n",
      "84  Taman Pintar Yogyakarta (bahasa Jawa: Hanacara...  Taman Hiburan   \n",
      "85  Keraton Ngayogyakarta Hadiningrat atau Keraton...         Budaya   \n",
      "86  Sindu Kusuma Edupark (SKE) merupakan sebuah de...  Taman Hiburan   \n",
      "87  Museum Benteng Vredeburg (bahasa Jawa: ꦩꦸꦱꦶꦪꦸꦩ...         Budaya   \n",
      "88  Museum De Mata merupakan salah satu museum yan...         Budaya   \n",
      "\n",
      "          City  Price  Rating  Time_Minutes  age_mean  visitor_count  \\\n",
      "84  Yogyakarta   6000     4.5         120.0      29.0             25   \n",
      "85  Yogyakarta  15000     4.6           0.0      28.0             25   \n",
      "86  Yogyakarta  20000     4.2         120.0      29.0             19   \n",
      "87  Yogyakarta   3000     4.6         120.0      28.0             32   \n",
      "88  Yogyakarta  50000     4.4           0.0      29.0             31   \n",
      "\n",
      "    pendapatan  cluster  \n",
      "84      150000        1  \n",
      "85      375000        1  \n",
      "86      380000        1  \n",
      "87       96000        1  \n",
      "88     1550000        1  \n",
      "\n",
      "Pelanggan cluster: 2\n",
      "\n",
      "   Place_Id                         Place_Name  \\\n",
      "0         1                   Monumen Nasional   \n",
      "1         2                           Kota Tua   \n",
      "3         4  Taman Mini Indonesia Indah (TMII)   \n",
      "4         5           Atlantis Water Adventure   \n",
      "5         6            Taman Impian Jaya Ancol   \n",
      "\n",
      "                                         Description       Category     City  \\\n",
      "0  Monumen Nasional atau yang populer disingkat d...         Budaya  Jakarta   \n",
      "1  Kota tua di Jakarta, yang juga bernama Kota Tu...         Budaya  Jakarta   \n",
      "3  Taman Mini Indonesia Indah merupakan suatu kaw...  Taman Hiburan  Jakarta   \n",
      "4  Atlantis Water Adventure atau dikenal dengan A...  Taman Hiburan  Jakarta   \n",
      "5  Taman Impian Jaya Ancol merupakan sebuah objek...  Taman Hiburan  Jakarta   \n",
      "\n",
      "   Price  Rating  Time_Minutes  age_mean  visitor_count  pendapatan  cluster  \n",
      "0  20000     4.6          15.0      27.0             18      360000        2  \n",
      "1      0     4.6          90.0      29.0             25           0        2  \n",
      "3  10000     4.5           0.0      30.0             21      210000        2  \n",
      "4  94000     4.5          60.0      29.0             25     2350000        2  \n",
      "5  25000     4.5          10.0      30.0             24      600000        2  \n"
     ]
    }
   ],
   "source": [
    "# Menampilkan data pelanggan per cluster nya  \n",
    "for i in range(3):  \n",
    "    print('\\nPelanggan cluster: {}\\n'.format(i))  \n",
    "    print(tourism_final[tourism_final['cluster']== i][:5])"
   ]
  },
  {
   "cell_type": "code",
   "execution_count": 553,
   "id": "247c4423-94d3-4774-90fb-850f0d690200",
   "metadata": {},
   "outputs": [
    {
     "data": {
      "image/png": "[encoded data removed]",
      "text/plain": [
       "<Figure size 432x288 with 1 Axes>"
      ]
     },
     "metadata": {},
     "output_type": "display_data"
    },
    {
     "data": {
      "image/png": "[encoded data removed]",
      "text/plain": [
       "<Figure size 432x288 with 1 Axes>"
      ]
     },
     "metadata": {},
     "output_type": "display_data"
    },
    {
     "data": {
      "image/png": "[encoded data removed]",
      "text/plain": [
       "<Figure size 432x288 with 1 Axes>"
      ]
     },
     "metadata": {},
     "output_type": "display_data"
    },
    {
     "data": {
      "image/png": "[encoded data removed]",
      "text/plain": [
       "<Figure size 432x288 with 1 Axes>"
      ]
     },
     "metadata": {},
     "output_type": "display_data"
    },
    {
     "data": {
      "image/png": "[encoded data removed]",
      "text/plain": [
       "<Figure size 432x288 with 1 Axes>"
      ]
     },
     "metadata": {},
     "output_type": "display_data"
    },
    {
     "data": {
      "image/png": "[encoded data removed]",
      "text/plain": [
       "<Figure size 432x288 with 1 Axes>"
      ]
     },
     "metadata": {},
     "output_type": "display_data"
    }
   ],
   "source": [
    "# Data Numerical\n",
    "kolom_numerik = tourism_id.iloc[:, 5:11].columns.tolist() \n",
    "\n",
    "#iterasi kolom numerik untuk visualisasi\n",
    "for i in kolom_numerik:  \n",
    "    plt.figure(figsize=(6,4))  \n",
    "    ax = sns.boxplot(x = 'cluster',y = i, data = tourism_final)  \n",
    "    plt.title('\\nBox Plot {}\\n'.format(i), fontsize=12)  \n",
    "    plt.show() "
   ]
  },
  {
   "cell_type": "code",
   "execution_count": 554,
   "id": "2ee55cd0-0955-466f-810f-2426bbc33b59",
   "metadata": {},
   "outputs": [
    {
     "data": {
      "image/png": "[encoded data removed]",
      "text/plain": [
       "<Figure size 576x288 with 1 Axes>"
      ]
     },
     "metadata": {},
     "output_type": "display_data"
    },
    {
     "data": {
      "image/png": "[encoded data removed]",
      "text/plain": [
       "<Figure size 576x288 with 1 Axes>"
      ]
     },
     "metadata": {},
     "output_type": "display_data"
    }
   ],
   "source": [
    "import matplotlib.pyplot as plt\n",
    "# Data Kategorikal  \n",
    "kolom_categorical = ['Category','City']  \n",
    "\n",
    "#iterasi kolom kategorik untuk visualisasi\n",
    "for i in kolom_categorical:  \n",
    "    plt.figure(figsize=(8,4))  \n",
    "    ax = sns.countplot(data = tourism_final, x = 'cluster', hue = i )  \n",
    "    plt.title('\\nCount Plot {}\\n'.format(i), fontsize=12)  \n",
    "    ax.legend(loc=\"best\")  \n",
    "    for p in ax.patches:  \n",
    "        ax.annotate(format(p.get_height(), '.0f'),  \n",
    "                    (p.get_x() + p.get_width() / 2., p.get_height()),  \n",
    "                     ha = 'center',  \n",
    "                     va = 'center',  \n",
    "                     xytext = (0, 10),  \n",
    "                     textcoords = 'offset points')  \n",
    "      \n",
    "    sns.despine(right=True,top = True, left = True)  \n",
    "    ax.axes.yaxis.set_visible(False)  \n",
    "    plt.show()  \n"
   ]
  },
  {
   "cell_type": "code",
   "execution_count": 555,
   "id": "8a7218b1-c426-4be1-a6c7-45c0ce454e9b",
   "metadata": {},
   "outputs": [
    {
     "data": {
      "text/plain": [
       "array([1, 0, 2, 4, 3])"
      ]
     },
     "execution_count": 555,
     "metadata": {},
     "output_type": "execute_result"
    }
   ],
   "source": [
    "from sklearn import preprocessing\n",
    "le = preprocessing.LabelEncoder()\n",
    "le.fit_transform(tourism_id['City'])\n",
    "list(le.classes_)\n",
    "le.transform([\"Jakarta\", \"Bandung\", \"Semarang\", \"Yogyakarta\",\"Surabaya\"])"
   ]
  },
  {
   "cell_type": "code",
   "execution_count": 556,
   "id": "d69640d2-37d8-4bfc-b7d0-ef2690523133",
   "metadata": {},
   "outputs": [],
   "source": [
    "x = tourism_model[['City','age_mean']].values\n",
    "km3 = KMeans(n_clusters=3).fit(x)\n",
    "tourism_model['Labels'] = km3.labels_"
   ]
  },
  {
   "cell_type": "code",
   "execution_count": 557,
   "id": "5b075b77-95bc-424d-8414-bd4357520cc3",
   "metadata": {
    "tags": []
   },
   "outputs": [
    {
     "name": "stderr",
     "output_type": "stream",
     "text": [
      "C:\\Users\\Tio\\anaconda3\\lib\\site-packages\\seaborn\\_decorators.py:36: FutureWarning: Pass the following variables as keyword args: x, y. From version 0.12, the only valid positional argument will be `data`, and passing other arguments without an explicit keyword will result in an error or misinterpretation.\n",
      "  warnings.warn(\n",
      "C:\\Users\\Tio\\anaconda3\\lib\\site-packages\\seaborn\\_decorators.py:36: FutureWarning: Pass the following variables as keyword args: x, y. From version 0.12, the only valid positional argument will be `data`, and passing other arguments without an explicit keyword will result in an error or misinterpretation.\n",
      "  warnings.warn(\n",
      "<ipython-input-557-5eb917458924>:22: UserWarning: FixedFormatter should only be used together with FixedLocator\n",
      "  ax.set_xticklabels(labels)\n"
     ]
    },
    {
     "data": {
      "image/png": "[encoded data removed]",
      "text/plain": [
       "<Figure size 864x432 with 1 Axes>"
      ]
     },
     "metadata": {},
     "output_type": "display_data"
    }
   ],
   "source": [
    "fig, ax = plt.subplots(figsize=(12,6))\n",
    "#plt.figure(figsize=(12,6))\n",
    "\n",
    "x1 = x[:,0]\n",
    "x2 = x[:,1]\n",
    "sns.scatterplot(x1, x2, hue=tourism_model['Labels'],\n",
    "                palette=sns.color_palette('hls', 3))\n",
    "# Assign the cluster centers: centroids\n",
    "centroids = km3.cluster_centers_\n",
    "\n",
    "# Assign the columns of centroids: centroids_x, centroids_y\n",
    "centroids_x = centroids[:,0]\n",
    "centroids_y = centroids[:,1]\n",
    "sns.scatterplot(centroids_x,centroids_y,marker='D', s=50)\n",
    "\n",
    "plt.title('KMeans dengan 3 Cluster')\n",
    "plt.xlabel('Kota')\n",
    "plt.ylabel('Usia')\n",
    "labels = [item.get_text() for item in ax.get_xticklabels()]\n",
    "labels = '','Bandung','','Jakarta','','Semarang','','Surabaya','','Jogja',''\n",
    "\n",
    "ax.set_xticklabels(labels)\n",
    "plt.show()"
   ]
  },
  {
   "cell_type": "code",
   "execution_count": 558,
   "id": "1c3520b1-cae9-4d72-b50a-6c833e405502",
   "metadata": {},
   "outputs": [],
   "source": [
    "#selecting features  \n",
    "X = tourism_model[['City','Rating']]  \n",
    "\n",
    "#Define KMeans as cluster_model  \n",
    "cluster_model = KMeans(n_clusters = 3, random_state = 0)  \n",
    "labels = cluster_model.fit_predict(X)"
   ]
  },
  {
   "cell_type": "code",
   "execution_count": 559,
   "id": "fa0c2803-6943-4a6a-8db1-637284a29329",
   "metadata": {},
   "outputs": [
    {
     "data": {
      "image/png": "[encoded data removed]",
      "text/plain": [
       "<Figure size 720x360 with 1 Axes>"
      ]
     },
     "metadata": {},
     "output_type": "display_data"
    }
   ],
   "source": [
    "#convert dataframe to array\n",
    "X = X.values\n",
    "#Separate X to xs and ys --> use for chart axis\n",
    "xs = X[:,0] #xs adalah kolom dengan index 0 yaitu annual_income\n",
    "ys = X[:,1] #ys adalah kolom dengan index 1 yaitu spendind_score\n",
    "# Make a scatter plot of xs and ys, using labels to define the colors\n",
    "plt.scatter(xs,ys,c=labels, alpha=0.5) #c=labels berarti color ditentukan berdasarkan labels yang telah dibuat sebelumnya\n",
    "\n",
    "# Assign the cluster centers: centroids\n",
    "centroids = cluster_model.cluster_centers_\n",
    "# Assign the columns of centroids: centroids_x, centroids_y\n",
    "centroids_x = centroids[:,0]\n",
    "centroids_y = centroids[:,1]\n",
    "# Make a scatter plot of centroids_x and centroids_y\n",
    "plt.scatter(centroids_x,centroids_y,marker='D', s=50)\n",
    "plt.title('K Means Clustering', fontsize = 20)\n",
    "plt.xlabel('pengeluaran')\n",
    "plt.ylabel('jumlah kunjungan')\n",
    "labels, locations = plt.xticks()\n",
    "plt.xticks(labels, labels)\n",
    "plt.gcf().set_size_inches(10, 5)\n",
    "plt.show()"
   ]
  },
  {
   "cell_type": "code",
   "execution_count": 560,
   "id": "7cb2b9ae-f8c9-45c8-a3c5-65637559503d",
   "metadata": {},
   "outputs": [
    {
     "name": "stdout",
     "output_type": "stream",
     "text": [
      "Silhouetter Score: 0.24\n"
     ]
    }
   ],
   "source": [
    "score = silhouette_score(tourism_model, tourism_km)\n",
    "print('Silhouetter Score: %.2f' % score)"
   ]
  },
  {
   "cell_type": "code",
   "execution_count": 563,
   "id": "009fc5aa-6262-4b36-ac96-18256be62f46",
   "metadata": {},
   "outputs": [
    {
     "data": {
      "image/png": "[encoded data removed]",
      "text/plain": [
       "<Figure size 576x396 with 1 Axes>"
      ]
     },
     "metadata": {},
     "output_type": "display_data"
    },
    {
     "data": {
      "text/plain": [
       "<AxesSubplot:title={'center':'Silhouette Plot of KMeans Clustering for 437 Samples in 3 Centers'}, xlabel='silhouette coefficient values', ylabel='cluster label'>"
      ]
     },
     "execution_count": 563,
     "metadata": {},
     "output_type": "execute_result"
    }
   ],
   "source": [
    "model = KMeans(3, random_state=0)\n",
    "visualizer = SilhouetteVisualizer(model, colors='yellowbrick')\n",
    "\n",
    "visualizer.fit(tourism_model)        # Fit the data to the visualizer\n",
    "visualizer.show()"
   ]
  },
  {
   "cell_type": "code",
   "execution_count": null,
   "id": "afc98458-a65c-43e9-9cb6-aaafe00ec64d",
   "metadata": {},
   "outputs": [],
   "source": []
  }
 ],
 "metadata": {
  "kernelspec": {
   "display_name": "Python 3",
   "language": "python",
   "name": "python3"
  },
  "language_info": {
   "codemirror_mode": {
    "name": "ipython",
    "version": 3
   },
   "file_extension": ".py",
   "mimetype": "text/x-python",
   "name": "python",
   "nbconvert_exporter": "python",
   "pygments_lexer": "ipython3",
   "version": "3.8.8"
  }
 },
 "nbformat": 4,
 "nbformat_minor": 5
}
